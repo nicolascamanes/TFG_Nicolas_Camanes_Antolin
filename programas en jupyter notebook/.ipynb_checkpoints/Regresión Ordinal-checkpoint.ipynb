{
 "cells": [
  {
   "cell_type": "markdown",
   "id": "0523fa24",
   "metadata": {},
   "source": [
    "# <center>Regresión Ordinal</center>"
   ]
  },
  {
   "cell_type": "code",
   "execution_count": 1,
   "id": "cbb99496",
   "metadata": {},
   "outputs": [],
   "source": [
    "import pandas as pd\n",
    "import os\n",
    "import matplotlib.pyplot as plt\n",
    "import numpy as np\n",
    "from scipy.stats import friedmanchisquare, wilcoxon\n",
    "from scipy.stats import kruskal\n",
    "import statsmodels.stats.multicomp as mc\n",
    "from scipy import stats\n",
    "from sklearn.preprocessing import StandardScaler\n",
    "import statsmodels.api as sm"
   ]
  },
  {
   "cell_type": "markdown",
   "id": "81f7851f",
   "metadata": {},
   "source": [
    "### Cargamos y limpiamos los datos de la temporada 21/22 de la Premier League (Inglaterra):"
   ]
  },
  {
   "cell_type": "code",
   "execution_count": 2,
   "id": "907b4c9a",
   "metadata": {},
   "outputs": [
    {
     "name": "stderr",
     "output_type": "stream",
     "text": [
      "C:\\Users\\nicol\\AppData\\Local\\Temp\\ipykernel_13488\\2660734404.py:10: SettingWithCopyWarning: \n",
      "A value is trying to be set on a copy of a slice from a DataFrame\n",
      "\n",
      "See the caveats in the documentation: https://pandas.pydata.org/pandas-docs/stable/user_guide/indexing.html#returning-a-view-versus-a-copy\n",
      "  premier_2122[\"Final\"][i] = \"Europa\"\n",
      "C:\\Users\\nicol\\AppData\\Local\\Temp\\ipykernel_13488\\2660734404.py:12: SettingWithCopyWarning: \n",
      "A value is trying to be set on a copy of a slice from a DataFrame\n",
      "\n",
      "See the caveats in the documentation: https://pandas.pydata.org/pandas-docs/stable/user_guide/indexing.html#returning-a-view-versus-a-copy\n",
      "  premier_2122[\"Final\"][i] = \"Descenso\"\n"
     ]
    }
   ],
   "source": [
    "# Cargamos los datos de un archivo\n",
    "premier_2122 = pd.read_excel(\"../datasets/Premier League.xlsx\", sheet_name = \"2122\")\n",
    "# Añadimos una columna llamada \"Europe\" con las variables categóticas \"Yes\" o \"No\" en función de si han participado en las\n",
    "# competiciones europeas: Champions League o Eurpa League\n",
    "premier_2122[\"League\"] = \"Premier League\"\n",
    "premier_2122[\"Final\"] = \"Permanencia\"\n",
    "premier_2122[\"Equipo\"] = \"2122\"\n",
    "for i in range(len(premier_2122)):\n",
    "    if premier_2122[\"Squad\"][i] in [\"Manchester City\", \"Liverpool\", \"Chelsea\", \"Tottenham\", \"Arsenal\", \"Manchester Utd\"]:\n",
    "        premier_2122[\"Final\"][i] = \"Europa\"\n",
    "    elif premier_2122[\"Squad\"][i] in [\"Norwich City\", \"Watford\", \"Burnley\"]:\n",
    "         premier_2122[\"Final\"][i] = \"Descenso\"       \n",
    "premier_2122[\"Equipo\"] = premier_2122[\"Squad\"]+\" - 2122\"    \n",
    "# Seleccionamos las columnas que nos interesan\n",
    "premier_2122 = premier_2122.loc[:, ['Equipo','Possesion', 'PenaltyKicksMade', 'YellowCards','RedCards', 'Saves', 'ShotsOnTarget', 'AverageDistanceOfShots', 'ShortPassesCompleted', 'MediumPassesCompleted', 'LongPassesCompleted', 'PassingTypeLive', 'PassingTypeDead', 'PassingTypeFreeKicks', 'PassingTypeBetweenBackDefenders', 'PassingTypeLongWidth', 'PassingTypeCrosses', 'PassingTypeThrows-In', 'PassingTypeCorners', 'DriblesAttempted', 'TouchesDefPen', 'TouchesDef3rd', 'TouchesMid3rd', 'TouchesAtt3rd', 'TouchesAttPen', 'AerialDuelsWon', 'FoulsCommited', 'Offsides', 'Interceptions', 'League', 'Final']]"
   ]
  },
  {
   "cell_type": "markdown",
   "id": "daea97a0",
   "metadata": {},
   "source": [
    "### Cargamos y limpiamos los datos de la temporada 20/21 de la Premier League (Inglaterra):"
   ]
  },
  {
   "cell_type": "code",
   "execution_count": 3,
   "id": "010f72ed",
   "metadata": {},
   "outputs": [
    {
     "name": "stderr",
     "output_type": "stream",
     "text": [
      "C:\\Users\\nicol\\AppData\\Local\\Temp\\ipykernel_13488\\1578188801.py:10: SettingWithCopyWarning: \n",
      "A value is trying to be set on a copy of a slice from a DataFrame\n",
      "\n",
      "See the caveats in the documentation: https://pandas.pydata.org/pandas-docs/stable/user_guide/indexing.html#returning-a-view-versus-a-copy\n",
      "  premier_2021[\"Final\"][i] = \"Europa\"\n",
      "C:\\Users\\nicol\\AppData\\Local\\Temp\\ipykernel_13488\\1578188801.py:12: SettingWithCopyWarning: \n",
      "A value is trying to be set on a copy of a slice from a DataFrame\n",
      "\n",
      "See the caveats in the documentation: https://pandas.pydata.org/pandas-docs/stable/user_guide/indexing.html#returning-a-view-versus-a-copy\n",
      "  premier_2021[\"Final\"][i] = \"Descenso\"\n"
     ]
    }
   ],
   "source": [
    "# Cargamos los datos de un archivo\n",
    "premier_2021 = pd.read_excel(\"../datasets/Premier League.xlsx\", sheet_name = \"2021\")\n",
    "# Añadimos una columna llamada \"Europe\" con las variables categóticas \"Yes\" o \"No\" en función de si han participado en las\n",
    "# competiciones europeas: Champions League o Eurpa League\n",
    "premier_2021[\"League\"] = \"Premier League\"\n",
    "premier_2021[\"Final\"] = \"Permanencia\"\n",
    "premier_2021[\"Equipo\"] = \"2021\"\n",
    "for i in range(len(premier_2021)):\n",
    "    if premier_2021[\"Squad\"][i] in [\"Manchester City\", \"Liverpool\", \"Chelsea\", \"Manchester Utd\", \"Leicester City\", \"West Ham\"]:\n",
    "        premier_2021[\"Final\"][i] = \"Europa\"\n",
    "    elif premier_2021[\"Squad\"][i] in [\"Sheffield Utd\", \"West Brom\", \"Fulham\"]:\n",
    "        premier_2021[\"Final\"][i] = \"Descenso\"\n",
    "premier_2021[\"Equipo\"] = premier_2021[\"Squad\"]+\" - 2021\"\n",
    "# Seleccionamos las columnas que nos interesan\n",
    "premier_2021 = premier_2021.loc[:, ['Equipo','Possesion', 'PenaltyKicksMade', 'YellowCards','RedCards', 'Saves', 'ShotsOnTarget', 'AverageDistanceOfShots', 'ShortPassesCompleted', 'MediumPassesCompleted', 'LongPassesCompleted', 'PassingTypeLive', 'PassingTypeDead', 'PassingTypeFreeKicks', 'PassingTypeBetweenBackDefenders', 'PassingTypeLongWidth', 'PassingTypeCrosses', 'PassingTypeThrows-In', 'PassingTypeCorners', 'DriblesAttempted', 'TouchesDefPen', 'TouchesDef3rd', 'TouchesMid3rd', 'TouchesAtt3rd', 'TouchesAttPen', 'AerialDuelsWon', 'FoulsCommited', 'Offsides', 'Interceptions', 'League', 'Final']]"
   ]
  },
  {
   "cell_type": "markdown",
   "id": "bcab1af2",
   "metadata": {},
   "source": [
    "### Cargamos y limpiamos los datos de la temporada 19/20 de la Premier League (Inglaterra):"
   ]
  },
  {
   "cell_type": "code",
   "execution_count": 4,
   "id": "6eceb7cc",
   "metadata": {},
   "outputs": [
    {
     "name": "stderr",
     "output_type": "stream",
     "text": [
      "C:\\Users\\nicol\\AppData\\Local\\Temp\\ipykernel_13488\\2335845812.py:12: SettingWithCopyWarning: \n",
      "A value is trying to be set on a copy of a slice from a DataFrame\n",
      "\n",
      "See the caveats in the documentation: https://pandas.pydata.org/pandas-docs/stable/user_guide/indexing.html#returning-a-view-versus-a-copy\n",
      "  premier_1920[\"Final\"][i] = \"Descenso\"\n",
      "C:\\Users\\nicol\\AppData\\Local\\Temp\\ipykernel_13488\\2335845812.py:10: SettingWithCopyWarning: \n",
      "A value is trying to be set on a copy of a slice from a DataFrame\n",
      "\n",
      "See the caveats in the documentation: https://pandas.pydata.org/pandas-docs/stable/user_guide/indexing.html#returning-a-view-versus-a-copy\n",
      "  premier_1920[\"Final\"][i] = \"Europa\"\n"
     ]
    }
   ],
   "source": [
    "# Cargamos los datos de un archivo\n",
    "premier_1920 = pd.read_excel(\"../datasets/Premier League.xlsx\", sheet_name = \"1920\")\n",
    "# Añadimos una columna llamada \"Europe\" con las variables categóticas \"Yes\" o \"No\" en función de si han participado en las\n",
    "# competiciones europeas: Champions League o Eurpa League\n",
    "premier_1920[\"League\"] = \"Premier League\"\n",
    "premier_1920[\"Final\"] = \"Permanencia\"\n",
    "premier_1920[\"Equipo\"] = \"1920\"\n",
    "for i in range(len(premier_1920)):\n",
    "    if premier_1920[\"Squad\"][i] in [\"Manchester City\", \"Liverpool\", \"Chelsea\", \"Manchester Utd\", \"Leicester City\"]:\n",
    "        premier_1920[\"Final\"][i] = \"Europa\"\n",
    "    elif premier_1920[\"Squad\"][i] in [\"Norwich City\", \"Watford\", \"Bournemouth\"]:\n",
    "        premier_1920[\"Final\"][i] = \"Descenso\"\n",
    "premier_1920[\"Equipo\"] = premier_1920[\"Squad\"]+\" - 1920\"\n",
    "# Seleccionamos las columnas que nos interesan\n",
    "premier_1920 = premier_1920.loc[:, ['Equipo','Possesion', 'PenaltyKicksMade', 'YellowCards','RedCards', 'Saves', 'ShotsOnTarget', 'AverageDistanceOfShots', 'ShortPassesCompleted', 'MediumPassesCompleted', 'LongPassesCompleted', 'PassingTypeLive', 'PassingTypeDead', 'PassingTypeFreeKicks', 'PassingTypeBetweenBackDefenders', 'PassingTypeLongWidth', 'PassingTypeCrosses', 'PassingTypeThrows-In', 'PassingTypeCorners', 'DriblesAttempted', 'TouchesDefPen', 'TouchesDef3rd', 'TouchesMid3rd', 'TouchesAtt3rd', 'TouchesAttPen', 'AerialDuelsWon', 'FoulsCommited', 'Offsides', 'Interceptions', 'League', 'Final']]"
   ]
  },
  {
   "cell_type": "markdown",
   "id": "286a6903",
   "metadata": {},
   "source": [
    "### Cargamos y limpiamos los datos de la temporada 18/19 de la Premier League (Inglaterra):"
   ]
  },
  {
   "cell_type": "code",
   "execution_count": 5,
   "id": "d6da31c8",
   "metadata": {},
   "outputs": [
    {
     "name": "stderr",
     "output_type": "stream",
     "text": [
      "C:\\Users\\nicol\\AppData\\Local\\Temp\\ipykernel_13488\\1559220757.py:10: SettingWithCopyWarning: \n",
      "A value is trying to be set on a copy of a slice from a DataFrame\n",
      "\n",
      "See the caveats in the documentation: https://pandas.pydata.org/pandas-docs/stable/user_guide/indexing.html#returning-a-view-versus-a-copy\n",
      "  premier_1819[\"Final\"][i] = \"Europa\"\n",
      "C:\\Users\\nicol\\AppData\\Local\\Temp\\ipykernel_13488\\1559220757.py:12: SettingWithCopyWarning: \n",
      "A value is trying to be set on a copy of a slice from a DataFrame\n",
      "\n",
      "See the caveats in the documentation: https://pandas.pydata.org/pandas-docs/stable/user_guide/indexing.html#returning-a-view-versus-a-copy\n",
      "  premier_1819[\"Final\"][i] = \"Descenso\"\n"
     ]
    }
   ],
   "source": [
    "# Cargamos los datos de un archivo\n",
    "premier_1819 = pd.read_excel(\"../datasets/Premier League.xlsx\", sheet_name = \"1819\")\n",
    "# Añadimos una columna llamada \"Europe\" con las variables categóticas \"Yes\" o \"No\" en función de si han participado en las\n",
    "# competiciones europeas: Champions League o Eurpa League\n",
    "premier_1819[\"League\"] = \"Premier League\"\n",
    "premier_1819[\"Final\"] = \"Permanencia\"\n",
    "premier_1819[\"Equipo\"] = \"1819\"\n",
    "for i in range(len(premier_1819)):\n",
    "    if premier_1819[\"Squad\"][i] in [\"Manchester City\", \"Liverpool\", \"Chelsea\", \"Tottenham\", \"Arsenal\", \"Manchester Utd\", \"Wolves\"]:\n",
    "        premier_1819[\"Final\"][i] = \"Europa\"\n",
    "    elif premier_1819[\"Squad\"][i] in [\"Huddersfield\", \"Fulham\", \"Cardiff City\"]:\n",
    "        premier_1819[\"Final\"][i] = \"Descenso\"\n",
    "premier_1819[\"Equipo\"] = premier_1819[\"Squad\"]+\" - 1819\"\n",
    "# Seleccionamos las columnas que nos interesan\n",
    "premier_1819 = premier_1819.loc[:, ['Equipo','Possesion', 'PenaltyKicksMade', 'YellowCards','RedCards', 'Saves', 'ShotsOnTarget', 'AverageDistanceOfShots', 'ShortPassesCompleted', 'MediumPassesCompleted', 'LongPassesCompleted', 'PassingTypeLive', 'PassingTypeDead', 'PassingTypeFreeKicks', 'PassingTypeBetweenBackDefenders', 'PassingTypeLongWidth', 'PassingTypeCrosses', 'PassingTypeThrows-In', 'PassingTypeCorners', 'DriblesAttempted', 'TouchesDefPen', 'TouchesDef3rd', 'TouchesMid3rd', 'TouchesAtt3rd', 'TouchesAttPen', 'AerialDuelsWon', 'FoulsCommited', 'Offsides', 'Interceptions', 'League', 'Final']]"
   ]
  },
  {
   "cell_type": "markdown",
   "id": "47a548d2",
   "metadata": {},
   "source": [
    "### Cargamos y limpiamos los datos de la temporada 17/18 de la Premier League (Inglaterra):"
   ]
  },
  {
   "cell_type": "code",
   "execution_count": 6,
   "id": "85c9f565",
   "metadata": {},
   "outputs": [
    {
     "name": "stderr",
     "output_type": "stream",
     "text": [
      "C:\\Users\\nicol\\AppData\\Local\\Temp\\ipykernel_13488\\3536091631.py:10: SettingWithCopyWarning: \n",
      "A value is trying to be set on a copy of a slice from a DataFrame\n",
      "\n",
      "See the caveats in the documentation: https://pandas.pydata.org/pandas-docs/stable/user_guide/indexing.html#returning-a-view-versus-a-copy\n",
      "  premier_1718[\"Final\"][i] = \"Europa\"\n"
     ]
    }
   ],
   "source": [
    "# Cargamos los datos de un archivo\n",
    "premier_1718 = pd.read_excel(\"../datasets/Premier League.xlsx\", sheet_name = \"1718\")\n",
    "# Añadimos una columna llamada \"Europe\" con las variables categóticas \"Yes\" o \"No\" en función de si han participado en las\n",
    "# competiciones europeas: Champions League o Eurpa League\n",
    "premier_1718[\"League\"] = \"Premier League\"\n",
    "premier_1718[\"Final\"] = \"Permanencia\"\n",
    "premier_1718[\"Equipo\"] = \"1718\"\n",
    "for i in range(len(premier_1718)):\n",
    "    if premier_1718[\"Squad\"][i] in [\"Manchester City\", \"Liverpool\", \"Chelsea\", \"Manchester Utd\", \"Tottenham\", \"Arsenal\", \"Burnley\"]:\n",
    "        premier_1718[\"Final\"][i] = \"Europa\"\n",
    "    elif premier_1718[\"Squad\"][i] in [\"West Brom\", \"Stoke City\", \"Swansea City\"]:\n",
    "        premier_1718[\"Final\"] = \"Descenso\"\n",
    "premier_1718[\"Equipo\"] = premier_1718[\"Squad\"]+\" - 1718\"\n",
    "# Seleccionamos las columnas que nos interesan\n",
    "premier_1718 = premier_1718.loc[:, ['Equipo','Possesion', 'PenaltyKicksMade', 'YellowCards','RedCards', 'Saves', 'ShotsOnTarget', 'AverageDistanceOfShots', 'ShortPassesCompleted', 'MediumPassesCompleted', 'LongPassesCompleted', 'PassingTypeLive', 'PassingTypeDead', 'PassingTypeFreeKicks', 'PassingTypeBetweenBackDefenders', 'PassingTypeLongWidth', 'PassingTypeCrosses', 'PassingTypeThrows-In', 'PassingTypeCorners', 'DriblesAttempted', 'TouchesDefPen', 'TouchesDef3rd', 'TouchesMid3rd', 'TouchesAtt3rd', 'TouchesAttPen', 'AerialDuelsWon', 'FoulsCommited', 'Offsides', 'Interceptions', 'League', 'Final']]"
   ]
  },
  {
   "cell_type": "markdown",
   "id": "6d831195",
   "metadata": {},
   "source": [
    "### Cargamos y limpiamos los datos de la temporada 21/22 de la Liga (España):"
   ]
  },
  {
   "cell_type": "code",
   "execution_count": 7,
   "id": "d8ab8e01",
   "metadata": {},
   "outputs": [
    {
     "name": "stderr",
     "output_type": "stream",
     "text": [
      "C:\\Users\\nicol\\AppData\\Local\\Temp\\ipykernel_13488\\3052659827.py:12: SettingWithCopyWarning: \n",
      "A value is trying to be set on a copy of a slice from a DataFrame\n",
      "\n",
      "See the caveats in the documentation: https://pandas.pydata.org/pandas-docs/stable/user_guide/indexing.html#returning-a-view-versus-a-copy\n",
      "  laliga_2122[\"Final\"][i] = \"Descenso\"\n",
      "C:\\Users\\nicol\\AppData\\Local\\Temp\\ipykernel_13488\\3052659827.py:10: SettingWithCopyWarning: \n",
      "A value is trying to be set on a copy of a slice from a DataFrame\n",
      "\n",
      "See the caveats in the documentation: https://pandas.pydata.org/pandas-docs/stable/user_guide/indexing.html#returning-a-view-versus-a-copy\n",
      "  laliga_2122[\"Final\"][i] = \"Europa\"\n"
     ]
    }
   ],
   "source": [
    "# Cargamos los datos de un archivo\n",
    "laliga_2122 = pd.read_excel(\"../datasets/La Liga.xlsx\", sheet_name = \"2122\")\n",
    "# Añadimos una columna llamada \"Europe\" con las variables categóticas \"Yes\" o \"No\" en función de si han participado en las\n",
    "# competiciones europeas: Champions League o Eurpa League\n",
    "laliga_2122[\"League\"] = \"La Liga\"\n",
    "laliga_2122[\"Final\"] = \"Permanencia\"\n",
    "laliga_2122[\"Equipo\"] = \"2122\"\n",
    "for i in range(len(laliga_2122)):\n",
    "    if laliga_2122[\"Squad\"][i] in [\"Real Madrid\", \"Barcelona\", \"Atlético Madrid\", \"Sevilla\", \"Betis\", \"Real Sociedad\"]:\n",
    "        laliga_2122[\"Final\"][i] = \"Europa\"\n",
    "    elif laliga_2122[\"Squad\"][i] in [\"Alavés\", \"Levante\", \"Granada\"]:\n",
    "        laliga_2122[\"Final\"][i] = \"Descenso\"\n",
    "laliga_2122[\"Equipo\"] = laliga_2122[\"Squad\"]+\" - 2122\"\n",
    "# Seleccionamos las columnas que nos interesan\n",
    "laliga_2122 = laliga_2122.loc[:, ['Equipo','Possesion', 'PenaltyKicksMade', 'YellowCards','RedCards', 'Saves', 'ShotsOnTarget', 'AverageDistanceOfShots', 'ShortPassesCompleted', 'MediumPassesCompleted', 'LongPassesCompleted', 'PassingTypeLive', 'PassingTypeDead', 'PassingTypeFreeKicks', 'PassingTypeBetweenBackDefenders', 'PassingTypeLongWidth', 'PassingTypeCrosses', 'PassingTypeThrows-In', 'PassingTypeCorners', 'DriblesAttempted', 'TouchesDefPen', 'TouchesDef3rd', 'TouchesMid3rd', 'TouchesAtt3rd', 'TouchesAttPen', 'AerialDuelsWon', 'FoulsCommited', 'Offsides', 'Interceptions', 'League', 'Final']]"
   ]
  },
  {
   "cell_type": "markdown",
   "id": "b56e3bff",
   "metadata": {},
   "source": [
    "### Cargamos y limpiamos los datos de la temporada 20/21 de la Liga (España):"
   ]
  },
  {
   "cell_type": "code",
   "execution_count": 8,
   "id": "31fcbf9a",
   "metadata": {},
   "outputs": [
    {
     "name": "stderr",
     "output_type": "stream",
     "text": [
      "C:\\Users\\nicol\\AppData\\Local\\Temp\\ipykernel_13488\\2414076758.py:10: SettingWithCopyWarning: \n",
      "A value is trying to be set on a copy of a slice from a DataFrame\n",
      "\n",
      "See the caveats in the documentation: https://pandas.pydata.org/pandas-docs/stable/user_guide/indexing.html#returning-a-view-versus-a-copy\n",
      "  laliga_2021[\"Final\"][i] = \"Europa\"\n",
      "C:\\Users\\nicol\\AppData\\Local\\Temp\\ipykernel_13488\\2414076758.py:12: SettingWithCopyWarning: \n",
      "A value is trying to be set on a copy of a slice from a DataFrame\n",
      "\n",
      "See the caveats in the documentation: https://pandas.pydata.org/pandas-docs/stable/user_guide/indexing.html#returning-a-view-versus-a-copy\n",
      "  laliga_2021[\"Final\"][i] = \"Descenso\"\n"
     ]
    }
   ],
   "source": [
    "# Cargamos los datos de un archivo\n",
    "laliga_2021 = pd.read_excel(\"../datasets/La Liga.xlsx\", sheet_name = \"2021\")\n",
    "# Añadimos una columna llamada \"Europe\" con las variables categóticas \"Yes\" o \"No\" en función de si han participado en las\n",
    "# competiciones europeas: Champions League o Eurpa League\n",
    "laliga_2021[\"League\"] = \"La Liga\"\n",
    "laliga_2021[\"Final\"] = \"Permanencia\"\n",
    "laliga_2021[\"Equipo\"] = \"2021\"\n",
    "for i in range(len(laliga_2021)):\n",
    "    if laliga_2021[\"Squad\"][i] in [\"Real Madrid\", \"Barcelona\", \"Atlético Madrid\", \"Sevilla\", \"Betis\", \"Real Sociedad\", \"Villarreal\"]:\n",
    "        laliga_2021[\"Final\"][i] = \"Europa\"\n",
    "    elif laliga_2021[\"Squad\"][i] in [\"Eibar\", \"Valladolid\", \"Huesca\"]:\n",
    "        laliga_2021[\"Final\"][i] = \"Descenso\"\n",
    "laliga_2021[\"Equipo\"] = laliga_2021[\"Squad\"]+\" - 2021\"\n",
    "# Seleccionamos las columnas que nos interesan\n",
    "laliga_2021 = laliga_2021.loc[:, ['Equipo','Possesion', 'PenaltyKicksMade', 'YellowCards','RedCards', 'Saves', 'ShotsOnTarget', 'AverageDistanceOfShots', 'ShortPassesCompleted', 'MediumPassesCompleted', 'LongPassesCompleted', 'PassingTypeLive', 'PassingTypeDead', 'PassingTypeFreeKicks', 'PassingTypeBetweenBackDefenders', 'PassingTypeLongWidth', 'PassingTypeCrosses', 'PassingTypeThrows-In', 'PassingTypeCorners', 'DriblesAttempted', 'TouchesDefPen', 'TouchesDef3rd', 'TouchesMid3rd', 'TouchesAtt3rd', 'TouchesAttPen', 'AerialDuelsWon', 'FoulsCommited', 'Offsides', 'Interceptions', 'League', 'Final']]"
   ]
  },
  {
   "cell_type": "markdown",
   "id": "2db65ea6",
   "metadata": {},
   "source": [
    "### Cargamos y limpiamos los datos de la temporada 19/20 de la Liga (España):"
   ]
  },
  {
   "cell_type": "code",
   "execution_count": 9,
   "id": "f5847bc3",
   "metadata": {},
   "outputs": [
    {
     "name": "stderr",
     "output_type": "stream",
     "text": [
      "C:\\Users\\nicol\\AppData\\Local\\Temp\\ipykernel_13488\\463033054.py:10: SettingWithCopyWarning: \n",
      "A value is trying to be set on a copy of a slice from a DataFrame\n",
      "\n",
      "See the caveats in the documentation: https://pandas.pydata.org/pandas-docs/stable/user_guide/indexing.html#returning-a-view-versus-a-copy\n",
      "  laliga_1920[\"Final\"][i] = \"Europa\"\n",
      "C:\\Users\\nicol\\AppData\\Local\\Temp\\ipykernel_13488\\463033054.py:12: SettingWithCopyWarning: \n",
      "A value is trying to be set on a copy of a slice from a DataFrame\n",
      "\n",
      "See the caveats in the documentation: https://pandas.pydata.org/pandas-docs/stable/user_guide/indexing.html#returning-a-view-versus-a-copy\n",
      "  laliga_1920[\"Final\"][i] = \"Descenso\"\n"
     ]
    }
   ],
   "source": [
    "# Cargamos los datos de un archivo\n",
    "laliga_1920 = pd.read_excel(\"../datasets/La Liga.xlsx\", sheet_name = \"1920\")\n",
    "# Añadimos una columna llamada \"Europe\" con las variables categóticas \"Yes\" o \"No\" en función de si han participado en las\n",
    "# competiciones europeas: Champions League o Eurpa League\n",
    "laliga_1920[\"League\"] = \"La Liga\"\n",
    "laliga_1920[\"Final\"] = \"Permanencia\"\n",
    "laliga_1920[\"Equipo\"] = \"1920\"\n",
    "for i in range(len(laliga_1920)):\n",
    "    if laliga_1920[\"Squad\"][i] in [\"Real Madrid\", \"Barcelona\", \"Atlético Madrid\", \"Sevilla\", \"Real Sociedad\", \"Villarreal\", \"Granada\"]:\n",
    "        laliga_1920[\"Final\"][i] = \"Europa\"\n",
    "    elif laliga_1920[\"Squad\"][i] in [\"Espanyol\", \"Mallorca\", \"Leganés\"]:\n",
    "        laliga_1920[\"Final\"][i] = \"Descenso\"\n",
    "laliga_1920[\"Equipo\"] = laliga_1920[\"Squad\"]+\" - 1920\"\n",
    "# Seleccionamos las columnas que nos interesan\n",
    "laliga_1920 = laliga_1920.loc[:, ['Equipo','Possesion', 'PenaltyKicksMade', 'YellowCards','RedCards', 'Saves', 'ShotsOnTarget', 'AverageDistanceOfShots', 'ShortPassesCompleted', 'MediumPassesCompleted', 'LongPassesCompleted', 'PassingTypeLive', 'PassingTypeDead', 'PassingTypeFreeKicks', 'PassingTypeBetweenBackDefenders', 'PassingTypeLongWidth', 'PassingTypeCrosses', 'PassingTypeThrows-In', 'PassingTypeCorners', 'DriblesAttempted', 'TouchesDefPen', 'TouchesDef3rd', 'TouchesMid3rd', 'TouchesAtt3rd', 'TouchesAttPen', 'AerialDuelsWon', 'FoulsCommited', 'Offsides', 'Interceptions', 'Final']]"
   ]
  },
  {
   "cell_type": "markdown",
   "id": "be8d0047",
   "metadata": {},
   "source": [
    "### Cargamos y limpiamos los datos de la temporada 18/19 de la Liga (España):"
   ]
  },
  {
   "cell_type": "code",
   "execution_count": 10,
   "id": "16e79425",
   "metadata": {},
   "outputs": [
    {
     "name": "stderr",
     "output_type": "stream",
     "text": [
      "C:\\Users\\nicol\\AppData\\Local\\Temp\\ipykernel_13488\\2444316086.py:10: SettingWithCopyWarning: \n",
      "A value is trying to be set on a copy of a slice from a DataFrame\n",
      "\n",
      "See the caveats in the documentation: https://pandas.pydata.org/pandas-docs/stable/user_guide/indexing.html#returning-a-view-versus-a-copy\n",
      "  laliga_1819[\"Final\"][i] = \"Europa\"\n",
      "C:\\Users\\nicol\\AppData\\Local\\Temp\\ipykernel_13488\\2444316086.py:12: SettingWithCopyWarning: \n",
      "A value is trying to be set on a copy of a slice from a DataFrame\n",
      "\n",
      "See the caveats in the documentation: https://pandas.pydata.org/pandas-docs/stable/user_guide/indexing.html#returning-a-view-versus-a-copy\n",
      "  laliga_1819[\"Final\"][i] = \"Descenso\"\n"
     ]
    }
   ],
   "source": [
    "# Cargamos los datos de un archivo\n",
    "laliga_1819 = pd.read_excel(\"../datasets/La Liga.xlsx\", sheet_name = \"1819\")\n",
    "# Añadimos una columna llamada \"Europe\" con las variables categóticas \"Yes\" o \"No\" en función de si han participado en las\n",
    "# competiciones europeas: Champions League o Eurpa League\n",
    "laliga_1819[\"League\"] = \"La Liga\"\n",
    "laliga_1819[\"Final\"] = \"Permanencia\"\n",
    "laliga_1819[\"Equipo\"] = \"1819\"\n",
    "for i in range(len(laliga_1819)):\n",
    "    if laliga_1819[\"Squad\"][i] in [\"Real Madrid\", \"Barcelona\", \"Atlético Madrid\", \"Sevilla\", \"Valencia\", \"Getafe\", \"Espanyol\"]:\n",
    "        laliga_1819[\"Final\"][i] = \"Europa\"\n",
    "    elif laliga_1819[\"Squad\"][i] in [\"Rayo Vallecano\", \"Huesca\", \"Girona\"]:\n",
    "        laliga_1819[\"Final\"][i] = \"Descenso\"\n",
    "laliga_1819[\"Equipo\"] = laliga_1819[\"Squad\"]+\" - 1819\"\n",
    "# Seleccionamos las columnas que nos interesan\n",
    "laliga_1819 = laliga_1819.loc[:, ['Equipo','Possesion', 'PenaltyKicksMade', 'YellowCards','RedCards', 'Saves', 'ShotsOnTarget', 'AverageDistanceOfShots', 'ShortPassesCompleted', 'MediumPassesCompleted', 'LongPassesCompleted', 'PassingTypeLive', 'PassingTypeDead', 'PassingTypeFreeKicks', 'PassingTypeBetweenBackDefenders', 'PassingTypeLongWidth', 'PassingTypeCrosses', 'PassingTypeThrows-In', 'PassingTypeCorners', 'DriblesAttempted', 'TouchesDefPen', 'TouchesDef3rd', 'TouchesMid3rd', 'TouchesAtt3rd', 'TouchesAttPen', 'AerialDuelsWon', 'FoulsCommited', 'Offsides', 'Interceptions', 'League', 'Final']]"
   ]
  },
  {
   "cell_type": "markdown",
   "id": "3c1345c3",
   "metadata": {},
   "source": [
    "### Cargamos y limpiamos los datos de la temporada 17/18 de la Liga (España):"
   ]
  },
  {
   "cell_type": "code",
   "execution_count": 11,
   "id": "1a4668b2",
   "metadata": {},
   "outputs": [
    {
     "name": "stderr",
     "output_type": "stream",
     "text": [
      "C:\\Users\\nicol\\AppData\\Local\\Temp\\ipykernel_13488\\3506496558.py:10: SettingWithCopyWarning: \n",
      "A value is trying to be set on a copy of a slice from a DataFrame\n",
      "\n",
      "See the caveats in the documentation: https://pandas.pydata.org/pandas-docs/stable/user_guide/indexing.html#returning-a-view-versus-a-copy\n",
      "  laliga_1718[\"Final\"][i] = \"Europa\"\n",
      "C:\\Users\\nicol\\AppData\\Local\\Temp\\ipykernel_13488\\3506496558.py:12: SettingWithCopyWarning: \n",
      "A value is trying to be set on a copy of a slice from a DataFrame\n",
      "\n",
      "See the caveats in the documentation: https://pandas.pydata.org/pandas-docs/stable/user_guide/indexing.html#returning-a-view-versus-a-copy\n",
      "  laliga_1718[\"Final\"][i] = \"Descenso\"\n"
     ]
    }
   ],
   "source": [
    "# Cargamos los datos de un archivo\n",
    "laliga_1718 = pd.read_excel(\"../datasets/La Liga.xlsx\", sheet_name = \"1718\")\n",
    "# Añadimos una columna llamada \"Europe\" con las variables categóticas \"Yes\" o \"No\" en función de si han participado en las\n",
    "# competiciones europeas: Champions League o Eurpa League\n",
    "laliga_1718[\"League\"] = \"La Liga\"\n",
    "laliga_1718[\"Final\"] = \"Permanencia\"\n",
    "laliga_1718[\"Equipo\"] = \"1718\"\n",
    "for i in range(len(laliga_1718)):\n",
    "    if laliga_1718[\"Squad\"][i] in [\"Real Madrid\", \"Barcelona\", \"Atlético Madrid\", \"Sevilla\", \"Valencia\", \"Villarreal\", \"Betis\"]:\n",
    "        laliga_1718[\"Final\"][i] = \"Europa\"\n",
    "    elif laliga_1718[\"Squad\"][i] in [\"Málaga\", \"Las Palmas\", \"La Coruña\"]:\n",
    "        laliga_1718[\"Final\"][i] = \"Descenso\"\n",
    "laliga_1718[\"Equipo\"] = laliga_1718[\"Squad\"]+\" - 1718\"\n",
    "# Seleccionamos las columnas que nos interesan\n",
    "laliga_1718 = laliga_1718.loc[:, ['Equipo','Possesion', 'PenaltyKicksMade', 'YellowCards','RedCards', 'Saves', 'ShotsOnTarget', 'AverageDistanceOfShots', 'ShortPassesCompleted', 'MediumPassesCompleted', 'LongPassesCompleted', 'PassingTypeLive', 'PassingTypeDead', 'PassingTypeFreeKicks', 'PassingTypeBetweenBackDefenders', 'PassingTypeLongWidth', 'PassingTypeCrosses', 'PassingTypeThrows-In', 'PassingTypeCorners', 'DriblesAttempted', 'TouchesDefPen', 'TouchesDef3rd', 'TouchesMid3rd', 'TouchesAtt3rd', 'TouchesAttPen', 'AerialDuelsWon', 'FoulsCommited', 'Offsides', 'Interceptions', 'League', 'Final']]"
   ]
  },
  {
   "cell_type": "markdown",
   "id": "0e030786",
   "metadata": {},
   "source": [
    "### Cargamos y limpiamos los datos de la temporada 21/22 de la Serie A (Italia):"
   ]
  },
  {
   "cell_type": "code",
   "execution_count": 12,
   "id": "b6f78a04",
   "metadata": {},
   "outputs": [
    {
     "name": "stderr",
     "output_type": "stream",
     "text": [
      "C:\\Users\\nicol\\AppData\\Local\\Temp\\ipykernel_13488\\388903849.py:12: SettingWithCopyWarning: \n",
      "A value is trying to be set on a copy of a slice from a DataFrame\n",
      "\n",
      "See the caveats in the documentation: https://pandas.pydata.org/pandas-docs/stable/user_guide/indexing.html#returning-a-view-versus-a-copy\n",
      "  seriea_2122[\"Final\"][i] = \"Descenso\"\n",
      "C:\\Users\\nicol\\AppData\\Local\\Temp\\ipykernel_13488\\388903849.py:10: SettingWithCopyWarning: \n",
      "A value is trying to be set on a copy of a slice from a DataFrame\n",
      "\n",
      "See the caveats in the documentation: https://pandas.pydata.org/pandas-docs/stable/user_guide/indexing.html#returning-a-view-versus-a-copy\n",
      "  seriea_2122[\"Final\"][i] = \"Europa\"\n"
     ]
    }
   ],
   "source": [
    "# Cargamos los datos de un archivo\n",
    "seriea_2122 = pd.read_excel(\"../datasets/Serie A.xlsx\", sheet_name = \"2122\")\n",
    "# Añadimos una columna llamada \"Europe\" con las variables categóticas \"Yes\" o \"No\" en función de si han participado en las\n",
    "# competiciones europeas: Champions League o Eurpa League\n",
    "seriea_2122[\"League\"] = \"Serie A\"\n",
    "seriea_2122[\"Final\"] = \"Permanencia\"\n",
    "seriea_2122[\"Equipo\"] = \"2122\"\n",
    "for i in range(len(seriea_2122)):\n",
    "    if seriea_2122[\"Squad\"][i] in [\"Milan\", \"Inter\", \"Napoli\", \"Juventus\", \"Lazio\", \"Roma\"]:\n",
    "        seriea_2122[\"Final\"][i] = \"Europa\"\n",
    "    elif seriea_2122[\"Squad\"][i] in [\"Venezia\", \"Genoa\", \"Cagliari\"]:\n",
    "        seriea_2122[\"Final\"][i] = \"Descenso\"\n",
    "seriea_2122[\"Equipo\"] = seriea_2122[\"Squad\"]+\" - 2122\"\n",
    "# Seleccionamos las columnas que nos interesan\n",
    "seriea_2122 = seriea_2122.loc[:, ['Equipo','Possesion', 'PenaltyKicksMade', 'YellowCards','RedCards', 'Saves', 'ShotsOnTarget', 'AverageDistanceOfShots', 'ShortPassesCompleted', 'MediumPassesCompleted', 'LongPassesCompleted', 'PassingTypeLive', 'PassingTypeDead', 'PassingTypeFreeKicks', 'PassingTypeBetweenBackDefenders', 'PassingTypeLongWidth', 'PassingTypeCrosses', 'PassingTypeThrows-In', 'PassingTypeCorners', 'DriblesAttempted', 'TouchesDefPen', 'TouchesDef3rd', 'TouchesMid3rd', 'TouchesAtt3rd', 'TouchesAttPen', 'AerialDuelsWon', 'FoulsCommited', 'Offsides', 'Interceptions', 'League', 'Final']]"
   ]
  },
  {
   "cell_type": "markdown",
   "id": "fb975208",
   "metadata": {},
   "source": [
    "### Cargamos y limpiamos los datos de la temporada 20/21 de la Serie A (Italia):"
   ]
  },
  {
   "cell_type": "code",
   "execution_count": 13,
   "id": "9bde15c7",
   "metadata": {},
   "outputs": [
    {
     "name": "stderr",
     "output_type": "stream",
     "text": [
      "C:\\Users\\nicol\\AppData\\Local\\Temp\\ipykernel_13488\\863512359.py:10: SettingWithCopyWarning: \n",
      "A value is trying to be set on a copy of a slice from a DataFrame\n",
      "\n",
      "See the caveats in the documentation: https://pandas.pydata.org/pandas-docs/stable/user_guide/indexing.html#returning-a-view-versus-a-copy\n",
      "  seriea_2021[\"Final\"][i] = \"Europa\"\n",
      "C:\\Users\\nicol\\AppData\\Local\\Temp\\ipykernel_13488\\863512359.py:12: SettingWithCopyWarning: \n",
      "A value is trying to be set on a copy of a slice from a DataFrame\n",
      "\n",
      "See the caveats in the documentation: https://pandas.pydata.org/pandas-docs/stable/user_guide/indexing.html#returning-a-view-versus-a-copy\n",
      "  seriea_2021[\"Final\"][i] = \"Descenso\"\n"
     ]
    }
   ],
   "source": [
    "# Cargamos los datos de un archivo\n",
    "seriea_2021 = pd.read_excel(\"../datasets/Serie A.xlsx\", sheet_name = \"2021\")\n",
    "# Añadimos una columna llamada \"Europe\" con las variables categóticas \"Yes\" o \"No\" en función de si han participado en las\n",
    "# competiciones europeas: Champions League o Eurpa League\n",
    "seriea_2021[\"League\"] = \"Serie A\"\n",
    "seriea_2021[\"Final\"] = \"Permanencia\"\n",
    "seriea_2021[\"Equipo\"] = \"2021\"\n",
    "for i in range(len(seriea_2021)):\n",
    "    if seriea_2021[\"Squad\"][i] in [\"Milan\", \"Inter\", \"Napoli\", \"Juventus\", \"Lazio\", \"Atalanta\"]:\n",
    "        seriea_2021[\"Final\"][i] = \"Europa\"\n",
    "    elif seriea_2021[\"Squad\"][i] in [\"Parma\", \"Crotone\", \"Benevento\"]:\n",
    "        seriea_2021[\"Final\"][i] = \"Descenso\"\n",
    "seriea_2021[\"Equipo\"] = seriea_2021[\"Squad\"]+\" - 2021\"\n",
    "# Seleccionamos las columnas que nos interesan\n",
    "seriea_2021 = seriea_2021.loc[:, ['Equipo','Possesion', 'PenaltyKicksMade', 'YellowCards','RedCards', 'Saves', 'ShotsOnTarget', 'AverageDistanceOfShots', 'ShortPassesCompleted', 'MediumPassesCompleted', 'LongPassesCompleted', 'PassingTypeLive', 'PassingTypeDead', 'PassingTypeFreeKicks', 'PassingTypeBetweenBackDefenders', 'PassingTypeLongWidth', 'PassingTypeCrosses', 'PassingTypeThrows-In', 'PassingTypeCorners', 'DriblesAttempted', 'TouchesDefPen', 'TouchesDef3rd', 'TouchesMid3rd', 'TouchesAtt3rd', 'TouchesAttPen', 'AerialDuelsWon', 'FoulsCommited', 'Offsides', 'Interceptions', 'League', 'Final']]"
   ]
  },
  {
   "cell_type": "markdown",
   "id": "75bfcaa2",
   "metadata": {},
   "source": [
    "### Cargamos y limpiamos los datos de la temporada 19/20 de la Serie A (Italia):"
   ]
  },
  {
   "cell_type": "code",
   "execution_count": 14,
   "id": "6cae122d",
   "metadata": {},
   "outputs": [
    {
     "name": "stderr",
     "output_type": "stream",
     "text": [
      "C:\\Users\\nicol\\AppData\\Local\\Temp\\ipykernel_13488\\3038537746.py:12: SettingWithCopyWarning: \n",
      "A value is trying to be set on a copy of a slice from a DataFrame\n",
      "\n",
      "See the caveats in the documentation: https://pandas.pydata.org/pandas-docs/stable/user_guide/indexing.html#returning-a-view-versus-a-copy\n",
      "  seriea_1920[\"Final\"][i] = \"Descenso\"\n",
      "C:\\Users\\nicol\\AppData\\Local\\Temp\\ipykernel_13488\\3038537746.py:10: SettingWithCopyWarning: \n",
      "A value is trying to be set on a copy of a slice from a DataFrame\n",
      "\n",
      "See the caveats in the documentation: https://pandas.pydata.org/pandas-docs/stable/user_guide/indexing.html#returning-a-view-versus-a-copy\n",
      "  seriea_1920[\"Final\"][i] = \"Europa\"\n"
     ]
    }
   ],
   "source": [
    "# Cargamos los datos de un archivo\n",
    "seriea_1920 = pd.read_excel(\"../datasets/Serie A.xlsx\", sheet_name = \"1920\")\n",
    "# Añadimos una columna llamada \"Europe\" con las variables categóticas \"Yes\" o \"No\" en función de si han participado en las\n",
    "# competiciones europeas: Champions League o Eurpa League\n",
    "seriea_1920[\"League\"] = \"Serie A\"\n",
    "seriea_1920[\"Final\"] = \"Permanencia\"\n",
    "seriea_1920[\"Equipo\"] = \"1920\"\n",
    "for i in range(len(seriea_2122)):\n",
    "    if seriea_1920[\"Squad\"][i] in [\"Milan\", \"Inter\", \"Napoli\", \"Juventus\", \"Lazio\", \"Roma\"]:\n",
    "        seriea_1920[\"Final\"][i] = \"Europa\"\n",
    "    elif seriea_1920[\"Squad\"][i] in [\"SPAL\", \"Brescia\", \"Lecce\"]:\n",
    "        seriea_1920[\"Final\"][i] = \"Descenso\"\n",
    "seriea_1920[\"Equipo\"] = seriea_1920[\"Squad\"]+\" - 1920\"\n",
    "# Seleccionamos las columnas que nos interesan\n",
    "seriea_1920 = seriea_1920.loc[:, ['Equipo','Possesion', 'PenaltyKicksMade', 'YellowCards','RedCards', 'Saves', 'ShotsOnTarget', 'AverageDistanceOfShots', 'ShortPassesCompleted', 'MediumPassesCompleted', 'LongPassesCompleted', 'PassingTypeLive', 'PassingTypeDead', 'PassingTypeFreeKicks', 'PassingTypeBetweenBackDefenders', 'PassingTypeLongWidth', 'PassingTypeCrosses', 'PassingTypeThrows-In', 'PassingTypeCorners', 'DriblesAttempted', 'TouchesDefPen', 'TouchesDef3rd', 'TouchesMid3rd', 'TouchesAtt3rd', 'TouchesAttPen', 'AerialDuelsWon', 'FoulsCommited', 'Offsides', 'Interceptions', 'League', 'Final']]"
   ]
  },
  {
   "cell_type": "markdown",
   "id": "971376ff",
   "metadata": {},
   "source": [
    "### Cargamos y limpiamos los datos de la temporada 18/19 de la Serie A (Italia):"
   ]
  },
  {
   "cell_type": "code",
   "execution_count": 15,
   "id": "4653d1b4",
   "metadata": {},
   "outputs": [
    {
     "name": "stderr",
     "output_type": "stream",
     "text": [
      "C:\\Users\\nicol\\AppData\\Local\\Temp\\ipykernel_13488\\2807876409.py:10: SettingWithCopyWarning: \n",
      "A value is trying to be set on a copy of a slice from a DataFrame\n",
      "\n",
      "See the caveats in the documentation: https://pandas.pydata.org/pandas-docs/stable/user_guide/indexing.html#returning-a-view-versus-a-copy\n",
      "  seriea_1819[\"Final\"][i] = \"Europa\"\n",
      "C:\\Users\\nicol\\AppData\\Local\\Temp\\ipykernel_13488\\2807876409.py:12: SettingWithCopyWarning: \n",
      "A value is trying to be set on a copy of a slice from a DataFrame\n",
      "\n",
      "See the caveats in the documentation: https://pandas.pydata.org/pandas-docs/stable/user_guide/indexing.html#returning-a-view-versus-a-copy\n",
      "  seriea_1819[\"Final\"][i] = \"Descenso\"\n"
     ]
    }
   ],
   "source": [
    "# Cargamos los datos de un archivo\n",
    "seriea_1819 = pd.read_excel(\"../datasets/Serie A.xlsx\", sheet_name = \"1819\")\n",
    "# Añadimos una columna llamada \"Europe\" con las variables categóticas \"Yes\" o \"No\" en función de si han participado en las\n",
    "# competiciones europeas: Champions League o Eurpa League\n",
    "seriea_1819[\"League\"] = \"Serie A\"\n",
    "seriea_1819[\"Final\"] = \"Permanencia\"\n",
    "seriea_1819[\"Equipo\"] = \"1819\"\n",
    "for i in range(len(seriea_1819)):\n",
    "    if seriea_1819[\"Squad\"][i] in [\"Atalanta\", \"Inter\", \"Napoli\", \"Juventus\", \"Lazio\", \"Roma\"]:\n",
    "        seriea_1819[\"Final\"][i] = \"Europa\"\n",
    "    elif seriea_1819[\"Squad\"][i] in [\"Chievo\", \"Frosinone\", \"Empoli\"]:\n",
    "        seriea_1819[\"Final\"][i] = \"Descenso\"\n",
    "seriea_1819[\"Equipo\"] = seriea_1819[\"Squad\"]+\" - 1819\"\n",
    "# Seleccionamos las columnas que nos interesan\n",
    "seriea_1819 = seriea_1819.loc[:, ['Equipo','Possesion', 'PenaltyKicksMade', 'YellowCards','RedCards', 'Saves', 'ShotsOnTarget', 'AverageDistanceOfShots', 'ShortPassesCompleted', 'MediumPassesCompleted', 'LongPassesCompleted', 'PassingTypeLive', 'PassingTypeDead', 'PassingTypeFreeKicks', 'PassingTypeBetweenBackDefenders', 'PassingTypeLongWidth', 'PassingTypeCrosses', 'PassingTypeThrows-In', 'PassingTypeCorners', 'DriblesAttempted', 'TouchesDefPen', 'TouchesDef3rd', 'TouchesMid3rd', 'TouchesAtt3rd', 'TouchesAttPen', 'AerialDuelsWon', 'FoulsCommited', 'Offsides', 'Interceptions', 'League', 'Final']]"
   ]
  },
  {
   "cell_type": "markdown",
   "id": "522685d1",
   "metadata": {},
   "source": [
    "### Cargamos y limpiamos los datos de la temporada 17/18 de la Serie A (Italia):"
   ]
  },
  {
   "cell_type": "code",
   "execution_count": 16,
   "id": "fb93d62b",
   "metadata": {},
   "outputs": [
    {
     "name": "stderr",
     "output_type": "stream",
     "text": [
      "C:\\Users\\nicol\\AppData\\Local\\Temp\\ipykernel_13488\\1331480230.py:10: SettingWithCopyWarning: \n",
      "A value is trying to be set on a copy of a slice from a DataFrame\n",
      "\n",
      "See the caveats in the documentation: https://pandas.pydata.org/pandas-docs/stable/user_guide/indexing.html#returning-a-view-versus-a-copy\n",
      "  seriea_1718[\"Final\"][i] = \"Europa\"\n",
      "C:\\Users\\nicol\\AppData\\Local\\Temp\\ipykernel_13488\\1331480230.py:12: SettingWithCopyWarning: \n",
      "A value is trying to be set on a copy of a slice from a DataFrame\n",
      "\n",
      "See the caveats in the documentation: https://pandas.pydata.org/pandas-docs/stable/user_guide/indexing.html#returning-a-view-versus-a-copy\n",
      "  seriea_1718[\"Final\"][i] = \"Descenso\"\n"
     ]
    }
   ],
   "source": [
    "# Cargamos los datos de un archivo\n",
    "seriea_1718 = pd.read_excel(\"../datasets/Serie A.xlsx\", sheet_name = \"1718\")\n",
    "# Añadimos una columna llamada \"Europe\" con las variables categóticas \"Yes\" o \"No\" en función de si han participado en las\n",
    "# competiciones europeas: Champions League o Eurpa League\n",
    "seriea_1718[\"League\"] = \"Serie A\"\n",
    "seriea_1718[\"Final\"] = \"Permanencia\"\n",
    "seriea_1718[\"Equipo\"] = \"1718\"\n",
    "for i in range(len(seriea_1718)):\n",
    "    if seriea_1718[\"Squad\"][i] in [\"Milan\", \"Inter\", \"Napoli\", \"Juventus\", \"Lazio\", \"Roma\", \"Atalanta\"]:\n",
    "        seriea_1718[\"Final\"][i] = \"Europa\"\n",
    "    elif seriea_1718[\"Squad\"][i] in [\"Benevento\", \"Hellas Verona\", \"Crotone\"]:\n",
    "        seriea_1718[\"Final\"][i] = \"Descenso\"\n",
    "seriea_1718[\"Equipo\"] = seriea_1718[\"Squad\"]+\" - 1718\"\n",
    "# Seleccionamos las columnas que nos interesan\n",
    "seriea_1718 = seriea_1718.loc[:, ['Equipo','Possesion', 'PenaltyKicksMade', 'YellowCards','RedCards', 'Saves', 'ShotsOnTarget', 'AverageDistanceOfShots', 'ShortPassesCompleted', 'MediumPassesCompleted', 'LongPassesCompleted', 'PassingTypeLive', 'PassingTypeDead', 'PassingTypeFreeKicks', 'PassingTypeBetweenBackDefenders', 'PassingTypeLongWidth', 'PassingTypeCrosses', 'PassingTypeThrows-In', 'PassingTypeCorners', 'DriblesAttempted', 'TouchesDefPen', 'TouchesDef3rd', 'TouchesMid3rd', 'TouchesAtt3rd', 'TouchesAttPen', 'AerialDuelsWon', 'FoulsCommited', 'Offsides', 'Interceptions', 'League', 'Final']]"
   ]
  },
  {
   "cell_type": "markdown",
   "id": "38edab6a",
   "metadata": {},
   "source": [
    "### Cargamos y limpiamos los datos de la temporada 21/22 de la Ligue 1 (Francia):"
   ]
  },
  {
   "cell_type": "code",
   "execution_count": 17,
   "id": "d75a9187",
   "metadata": {},
   "outputs": [
    {
     "name": "stderr",
     "output_type": "stream",
     "text": [
      "C:\\Users\\nicol\\AppData\\Local\\Temp\\ipykernel_13488\\267341409.py:12: SettingWithCopyWarning: \n",
      "A value is trying to be set on a copy of a slice from a DataFrame\n",
      "\n",
      "See the caveats in the documentation: https://pandas.pydata.org/pandas-docs/stable/user_guide/indexing.html#returning-a-view-versus-a-copy\n",
      "  ligue1_2122[\"Final\"][i] = \"Descenso\"\n",
      "C:\\Users\\nicol\\AppData\\Local\\Temp\\ipykernel_13488\\267341409.py:10: SettingWithCopyWarning: \n",
      "A value is trying to be set on a copy of a slice from a DataFrame\n",
      "\n",
      "See the caveats in the documentation: https://pandas.pydata.org/pandas-docs/stable/user_guide/indexing.html#returning-a-view-versus-a-copy\n",
      "  ligue1_2122[\"Final\"][i] = \"Europa\"\n"
     ]
    }
   ],
   "source": [
    "# Cargamos los datos de un archivo\n",
    "ligue1_2122 = pd.read_excel(\"../datasets/Ligue 1.xlsx\", sheet_name = \"2122\")\n",
    "# Añadimos una columna llamada \"Europe\" con las variables categóticas \"Yes\" o \"No\" en función de si han participado en las\n",
    "# competiciones europeas: Champions League o Eurpa League\n",
    "ligue1_2122[\"League\"] = \"Ligue 1\"\n",
    "ligue1_2122[\"Final\"] = \"Permanencia\"\n",
    "ligue1_2122[\"Equipo\"] = \"2122\"\n",
    "for i in range(len(ligue1_2122)):\n",
    "    if ligue1_2122[\"Squad\"][i] in [\"Paris S-G\", \"Marseille\", \"Monaco\"]:\n",
    "        ligue1_2122[\"Final\"][i] = \"Europa\"\n",
    "    elif ligue1_2122[\"Squad\"][i] in [\"Bordeaux\", \"Metz\", \"Saint-Étienne\"]:\n",
    "        ligue1_2122[\"Final\"][i] = \"Descenso\"\n",
    "ligue1_2122[\"Equipo\"] = ligue1_2122[\"Squad\"]+\" - 2122\"\n",
    "# Seleccionamos las columnas que nos interesan\n",
    "ligue1_2122 = ligue1_2122.loc[:, ['Equipo','Possesion', 'PenaltyKicksMade', 'YellowCards','RedCards', 'Saves', 'ShotsOnTarget', 'AverageDistanceOfShots', 'ShortPassesCompleted', 'MediumPassesCompleted', 'LongPassesCompleted', 'PassingTypeLive', 'PassingTypeDead', 'PassingTypeFreeKicks', 'PassingTypeBetweenBackDefenders', 'PassingTypeLongWidth', 'PassingTypeCrosses', 'PassingTypeThrows-In', 'PassingTypeCorners', 'DriblesAttempted', 'TouchesDefPen', 'TouchesDef3rd', 'TouchesMid3rd', 'TouchesAtt3rd', 'TouchesAttPen', 'AerialDuelsWon', 'FoulsCommited', 'Offsides', 'Interceptions', 'League', 'Final']]"
   ]
  },
  {
   "cell_type": "markdown",
   "id": "483be3a5",
   "metadata": {},
   "source": [
    "### Cargamos y limpiamos los datos de la temporada 20/21 de la Ligue 1 (Francia):"
   ]
  },
  {
   "cell_type": "code",
   "execution_count": 18,
   "id": "5f0df280",
   "metadata": {},
   "outputs": [
    {
     "name": "stderr",
     "output_type": "stream",
     "text": [
      "C:\\Users\\nicol\\AppData\\Local\\Temp\\ipykernel_13488\\4194501979.py:12: SettingWithCopyWarning: \n",
      "A value is trying to be set on a copy of a slice from a DataFrame\n",
      "\n",
      "See the caveats in the documentation: https://pandas.pydata.org/pandas-docs/stable/user_guide/indexing.html#returning-a-view-versus-a-copy\n",
      "  ligue1_2021[\"Final\"][i] = \"Descenso\"\n",
      "C:\\Users\\nicol\\AppData\\Local\\Temp\\ipykernel_13488\\4194501979.py:10: SettingWithCopyWarning: \n",
      "A value is trying to be set on a copy of a slice from a DataFrame\n",
      "\n",
      "See the caveats in the documentation: https://pandas.pydata.org/pandas-docs/stable/user_guide/indexing.html#returning-a-view-versus-a-copy\n",
      "  ligue1_2021[\"Final\"][i] = \"Europa\"\n"
     ]
    }
   ],
   "source": [
    "# Cargamos los datos de un archivo\n",
    "ligue1_2021 = pd.read_excel(\"../datasets/Ligue 1.xlsx\", sheet_name = \"2021\")\n",
    "# Añadimos una columna llamada \"Europe\" con las variables categóticas \"Yes\" o \"No\" en función de si han participado en las\n",
    "# competiciones europeas: Champions League o Eurpa League\n",
    "ligue1_2021[\"League\"] = \"Ligue 1\"\n",
    "ligue1_2021[\"Final\"] = \"Permanencia\"\n",
    "ligue1_2021[\"Equipo\"] = \"2021\"\n",
    "for i in range(len(ligue1_2122)):\n",
    "    if ligue1_2021[\"Squad\"][i] in [\"Paris S-G\", \"Lille\", \"Monaco\"]:\n",
    "        ligue1_2021[\"Final\"][i] = \"Europa\"\n",
    "    elif ligue1_2021[\"Squad\"][i] in [\"Dijon\", \"Nîmes\", \"Nantes\"]:\n",
    "        ligue1_2021[\"Final\"][i] = \"Descenso\"\n",
    "ligue1_2021[\"Equipo\"] = ligue1_2021[\"Squad\"]+\" - 2021\"\n",
    "# Seleccionamos las columnas que nos interesan\n",
    "ligue1_2021 = ligue1_2021.loc[:, ['Equipo','Possesion', 'PenaltyKicksMade', 'YellowCards','RedCards', 'Saves', 'ShotsOnTarget', 'AverageDistanceOfShots', 'ShortPassesCompleted', 'MediumPassesCompleted', 'LongPassesCompleted', 'PassingTypeLive', 'PassingTypeDead', 'PassingTypeFreeKicks', 'PassingTypeBetweenBackDefenders', 'PassingTypeLongWidth', 'PassingTypeCrosses', 'PassingTypeThrows-In', 'PassingTypeCorners', 'DriblesAttempted', 'TouchesDefPen', 'TouchesDef3rd', 'TouchesMid3rd', 'TouchesAtt3rd', 'TouchesAttPen', 'AerialDuelsWon', 'FoulsCommited', 'Offsides', 'Interceptions', 'League', 'Final']]"
   ]
  },
  {
   "cell_type": "markdown",
   "id": "ef1057ab",
   "metadata": {},
   "source": [
    "### Cargamos y limpiamos los datos de la temporada 19/20 de la Ligue 1 (Francia):"
   ]
  },
  {
   "cell_type": "code",
   "execution_count": 19,
   "id": "5f935f82",
   "metadata": {},
   "outputs": [
    {
     "name": "stderr",
     "output_type": "stream",
     "text": [
      "C:\\Users\\nicol\\AppData\\Local\\Temp\\ipykernel_13488\\233151393.py:12: SettingWithCopyWarning: \n",
      "A value is trying to be set on a copy of a slice from a DataFrame\n",
      "\n",
      "See the caveats in the documentation: https://pandas.pydata.org/pandas-docs/stable/user_guide/indexing.html#returning-a-view-versus-a-copy\n",
      "  ligue1_1920[\"Final\"][i] = \"Descenso\"\n",
      "C:\\Users\\nicol\\AppData\\Local\\Temp\\ipykernel_13488\\233151393.py:10: SettingWithCopyWarning: \n",
      "A value is trying to be set on a copy of a slice from a DataFrame\n",
      "\n",
      "See the caveats in the documentation: https://pandas.pydata.org/pandas-docs/stable/user_guide/indexing.html#returning-a-view-versus-a-copy\n",
      "  ligue1_1920[\"Final\"][i] = \"Europa\"\n"
     ]
    }
   ],
   "source": [
    "# Cargamos los datos de un archivo\n",
    "ligue1_1920 = pd.read_excel(\"../datasets/Ligue 1.xlsx\", sheet_name = \"1920\")\n",
    "# Añadimos una columna llamada \"Europe\" con las variables categóticas \"Yes\" o \"No\" en función de si han participado en las\n",
    "# competiciones europeas: Champions League o Eurpa League\n",
    "ligue1_1920[\"League\"] = \"Ligue 1\"\n",
    "ligue1_1920[\"Final\"] = \"Permanencia\"\n",
    "ligue1_1920[\"Equipo\"] = \"1920\"\n",
    "for i in range(len(ligue1_1920)):\n",
    "    if ligue1_1920[\"Squad\"][i] in [\"Paris S-G\", \"Marseille\", \"Rennes\", \"Lille\", \"Reims\"]:\n",
    "        ligue1_1920[\"Final\"][i] = \"Europa\"\n",
    "    elif ligue1_1920[\"Squad\"][i] in [\"Toulouse\", \"Amiens\", \"Nîmes\"]:\n",
    "        ligue1_1920[\"Final\"][i] = \"Descenso\"\n",
    "ligue1_1920[\"Equipo\"] = ligue1_1920[\"Squad\"]+\" - 1920\"\n",
    "# Seleccionamos las columnas que nos interesan\n",
    "ligue1_1920 = ligue1_1920.loc[:, ['Equipo','Possesion', 'PenaltyKicksMade', 'YellowCards','RedCards', 'Saves', 'ShotsOnTarget', 'AverageDistanceOfShots', 'ShortPassesCompleted', 'MediumPassesCompleted', 'LongPassesCompleted', 'PassingTypeLive', 'PassingTypeDead', 'PassingTypeFreeKicks', 'PassingTypeBetweenBackDefenders', 'PassingTypeLongWidth', 'PassingTypeCrosses', 'PassingTypeThrows-In', 'PassingTypeCorners', 'DriblesAttempted', 'TouchesDefPen', 'TouchesDef3rd', 'TouchesMid3rd', 'TouchesAtt3rd', 'TouchesAttPen', 'AerialDuelsWon', 'FoulsCommited', 'Offsides', 'Interceptions', 'League', 'Final']]"
   ]
  },
  {
   "cell_type": "markdown",
   "id": "1c1adb31",
   "metadata": {},
   "source": [
    "### Cargamos y limpiamos los datos de la temporada 18/19 de la Ligue 1 (Francia):"
   ]
  },
  {
   "cell_type": "code",
   "execution_count": 20,
   "id": "eca19973",
   "metadata": {},
   "outputs": [
    {
     "name": "stderr",
     "output_type": "stream",
     "text": [
      "C:\\Users\\nicol\\AppData\\Local\\Temp\\ipykernel_13488\\258220980.py:12: SettingWithCopyWarning: \n",
      "A value is trying to be set on a copy of a slice from a DataFrame\n",
      "\n",
      "See the caveats in the documentation: https://pandas.pydata.org/pandas-docs/stable/user_guide/indexing.html#returning-a-view-versus-a-copy\n",
      "  ligue1_1819[\"Final\"][i] = \"Descenso\"\n",
      "C:\\Users\\nicol\\AppData\\Local\\Temp\\ipykernel_13488\\258220980.py:10: SettingWithCopyWarning: \n",
      "A value is trying to be set on a copy of a slice from a DataFrame\n",
      "\n",
      "See the caveats in the documentation: https://pandas.pydata.org/pandas-docs/stable/user_guide/indexing.html#returning-a-view-versus-a-copy\n",
      "  ligue1_1819[\"Final\"][i] = \"Europa\"\n"
     ]
    }
   ],
   "source": [
    "# Cargamos los datos de un archivo\n",
    "ligue1_1819 = pd.read_excel(\"../datasets/Ligue 1.xlsx\", sheet_name = \"1819\")\n",
    "# Añadimos una columna llamada \"Europe\" con las variables categóticas \"Yes\" o \"No\" en función de si han participado en las\n",
    "# competiciones europeas: Champions League o Eurpa League\n",
    "ligue1_1819[\"League\"] = \"Ligue 1\"\n",
    "ligue1_1819[\"Final\"] = \"Permanencia\"\n",
    "ligue1_1819[\"Equipo\"] = \"1819\"\n",
    "for i in range(len(ligue1_1819)):\n",
    "    if ligue1_1819[\"Squad\"][i] in [\"Paris S-G\", \"Lille\", \"Lyon\", \"Saint-Étienne\"]:\n",
    "        ligue1_1819[\"Final\"][i] = \"Europa\"\n",
    "    elif ligue1_1819[\"Squad\"][i] in [\"Guingamp\", \"Caen\", \"Dijon\"]:\n",
    "        ligue1_1819[\"Final\"][i] = \"Descenso\"\n",
    "ligue1_1819[\"Equipo\"] = ligue1_1819[\"Squad\"]+\" - 1819\"\n",
    "# Seleccionamos las columnas que nos interesan\n",
    "ligue1_1819 = ligue1_1819.loc[:, ['Equipo','Possesion', 'PenaltyKicksMade', 'YellowCards','RedCards', 'Saves', 'ShotsOnTarget', 'AverageDistanceOfShots', 'ShortPassesCompleted', 'MediumPassesCompleted', 'LongPassesCompleted', 'PassingTypeLive', 'PassingTypeDead', 'PassingTypeFreeKicks', 'PassingTypeBetweenBackDefenders', 'PassingTypeLongWidth', 'PassingTypeCrosses', 'PassingTypeThrows-In', 'PassingTypeCorners', 'DriblesAttempted', 'TouchesDefPen', 'TouchesDef3rd', 'TouchesMid3rd', 'TouchesAtt3rd', 'TouchesAttPen', 'AerialDuelsWon', 'FoulsCommited', 'Offsides', 'Interceptions', 'League', 'Final']]"
   ]
  },
  {
   "cell_type": "markdown",
   "id": "0d6780a0",
   "metadata": {},
   "source": [
    "### Cargamos y limpiamos los datos de la temporada 17/18 de la Ligue 1 (Francia):"
   ]
  },
  {
   "cell_type": "code",
   "execution_count": 21,
   "id": "c2d16994",
   "metadata": {},
   "outputs": [
    {
     "name": "stderr",
     "output_type": "stream",
     "text": [
      "C:\\Users\\nicol\\AppData\\Local\\Temp\\ipykernel_13488\\1668681596.py:10: SettingWithCopyWarning: \n",
      "A value is trying to be set on a copy of a slice from a DataFrame\n",
      "\n",
      "See the caveats in the documentation: https://pandas.pydata.org/pandas-docs/stable/user_guide/indexing.html#returning-a-view-versus-a-copy\n",
      "  ligue1_1718[\"Final\"][i] = \"Europa\"\n",
      "C:\\Users\\nicol\\AppData\\Local\\Temp\\ipykernel_13488\\1668681596.py:12: SettingWithCopyWarning: \n",
      "A value is trying to be set on a copy of a slice from a DataFrame\n",
      "\n",
      "See the caveats in the documentation: https://pandas.pydata.org/pandas-docs/stable/user_guide/indexing.html#returning-a-view-versus-a-copy\n",
      "  ligue1_1718[\"Final\"][i] = \"Descenso\"\n"
     ]
    }
   ],
   "source": [
    "# Cargamos los datos de un archivo\n",
    "ligue1_1718 = pd.read_excel(\"../datasets/Ligue 1.xlsx\", sheet_name = \"1718\")\n",
    "# Añadimos una columna llamada \"Europe\" con las variables categóticas \"Yes\" o \"No\" en función de si han participado en las\n",
    "# competiciones europeas: Champions League o Eurpa League\n",
    "ligue1_1718[\"League\"] = \"Ligue 1\"\n",
    "ligue1_1718[\"Final\"] = \"Permanencia\"\n",
    "ligue1_1718[\"Equipo\"] = \"1718\"\n",
    "for i in range(len(ligue1_1718)):\n",
    "    if ligue1_1718[\"Squad\"][i] in [\"Paris S-G\", \"Marseille\", \"Monaco\", \"Lyon\"]:\n",
    "        ligue1_1718[\"Final\"][i] = \"Europa\"\n",
    "    elif ligue1_1718[\"Squad\"][i] in [\"Metz\", \"Troyes\", \"Toulouse\"]:\n",
    "        ligue1_1718[\"Final\"][i] = \"Descenso\"\n",
    "ligue1_1718[\"Equipo\"] = ligue1_1718[\"Squad\"]+\" - 1718\"\n",
    "# Seleccionamos las columnas que nos interesan\n",
    "ligue1_1718 = ligue1_1718.loc[:, ['Equipo','Possesion', 'PenaltyKicksMade', 'YellowCards','RedCards', 'Saves', 'ShotsOnTarget', 'AverageDistanceOfShots', 'ShortPassesCompleted', 'MediumPassesCompleted', 'LongPassesCompleted', 'PassingTypeLive', 'PassingTypeDead', 'PassingTypeFreeKicks', 'PassingTypeBetweenBackDefenders', 'PassingTypeLongWidth', 'PassingTypeCrosses', 'PassingTypeThrows-In', 'PassingTypeCorners', 'DriblesAttempted', 'TouchesDefPen', 'TouchesDef3rd', 'TouchesMid3rd', 'TouchesAtt3rd', 'TouchesAttPen', 'AerialDuelsWon', 'FoulsCommited', 'Offsides', 'Interceptions', 'League', 'Final']]"
   ]
  },
  {
   "cell_type": "markdown",
   "id": "e05097f4",
   "metadata": {},
   "source": [
    "### Cargamos y limpiamos los datos de la temporada 21/22 de la Bundesliga (Alemania):"
   ]
  },
  {
   "cell_type": "code",
   "execution_count": 22,
   "id": "a932e190",
   "metadata": {},
   "outputs": [
    {
     "name": "stderr",
     "output_type": "stream",
     "text": [
      "C:\\Users\\nicol\\AppData\\Local\\Temp\\ipykernel_13488\\7096867.py:12: SettingWithCopyWarning: \n",
      "A value is trying to be set on a copy of a slice from a DataFrame\n",
      "\n",
      "See the caveats in the documentation: https://pandas.pydata.org/pandas-docs/stable/user_guide/indexing.html#returning-a-view-versus-a-copy\n",
      "  bundesliga_2122[\"Final\"][i] = \"Descenso\"\n",
      "C:\\Users\\nicol\\AppData\\Local\\Temp\\ipykernel_13488\\7096867.py:10: SettingWithCopyWarning: \n",
      "A value is trying to be set on a copy of a slice from a DataFrame\n",
      "\n",
      "See the caveats in the documentation: https://pandas.pydata.org/pandas-docs/stable/user_guide/indexing.html#returning-a-view-versus-a-copy\n",
      "  bundesliga_2122[\"Final\"][i] = \"Europa\"\n"
     ]
    }
   ],
   "source": [
    "# Cargamos los datos de un archivo\n",
    "bundesliga_2122 = pd.read_excel(\"../datasets/Bundesliga.xlsx\", sheet_name = \"2122\")\n",
    "# Añadimos una columna llamada \"Europe\" con las variables categóticas \"Yes\" o \"No\" en función de si han participado en las\n",
    "# competiciones europeas: Champions League o Eurpa League\n",
    "bundesliga_2122[\"League\"] = \"Bundesliga\"\n",
    "bundesliga_2122[\"Final\"] = \"Permanencia\"\n",
    "bundesliga_2122[\"Equipo\"] = \"2122\"\n",
    "for i in range(len(bundesliga_2122)):\n",
    "    if bundesliga_2122[\"Squad\"][i] in [\"Bayern Munich\", \"Dortmund\", \"Leverkusen\", \"RB Leipzig\", \"Union Berlin\", \"Freiburg\"]:\n",
    "        bundesliga_2122[\"Final\"][i] = \"Europa\"\n",
    "    elif bundesliga_2122[\"Squad\"][i] in [\"Greuther Fürth\", \"Arminia\", \"Hertha BSC\"]:\n",
    "        bundesliga_2122[\"Final\"][i] = \"Descenso\"\n",
    "bundesliga_2122[\"Equipo\"] = bundesliga_2122[\"Squad\"]+\" - 2122\"\n",
    "# Seleccionamos las columnas que nos interesan\n",
    "bundesliga_2122 = bundesliga_2122.loc[:, ['Equipo','Possesion', 'PenaltyKicksMade', 'YellowCards','RedCards', 'Saves', 'ShotsOnTarget', 'AverageDistanceOfShots', 'ShortPassesCompleted', 'MediumPassesCompleted', 'LongPassesCompleted', 'PassingTypeLive', 'PassingTypeDead', 'PassingTypeFreeKicks', 'PassingTypeBetweenBackDefenders', 'PassingTypeLongWidth', 'PassingTypeCrosses', 'PassingTypeThrows-In', 'PassingTypeCorners', 'DriblesAttempted', 'TouchesDefPen', 'TouchesDef3rd', 'TouchesMid3rd', 'TouchesAtt3rd', 'TouchesAttPen', 'AerialDuelsWon', 'FoulsCommited', 'Offsides', 'Interceptions', 'League', 'Final']]"
   ]
  },
  {
   "cell_type": "markdown",
   "id": "d34f4c11",
   "metadata": {},
   "source": [
    "### Cargamos y limpiamos los datos de la temporada 20/21 de la Bundesliga (Alemania):"
   ]
  },
  {
   "cell_type": "code",
   "execution_count": 23,
   "id": "8eb2d0a7",
   "metadata": {},
   "outputs": [
    {
     "name": "stderr",
     "output_type": "stream",
     "text": [
      "C:\\Users\\nicol\\AppData\\Local\\Temp\\ipykernel_13488\\1392612426.py:10: SettingWithCopyWarning: \n",
      "A value is trying to be set on a copy of a slice from a DataFrame\n",
      "\n",
      "See the caveats in the documentation: https://pandas.pydata.org/pandas-docs/stable/user_guide/indexing.html#returning-a-view-versus-a-copy\n",
      "  bundesliga_2021[\"Final\"][i] = \"Europa\"\n",
      "C:\\Users\\nicol\\AppData\\Local\\Temp\\ipykernel_13488\\1392612426.py:12: SettingWithCopyWarning: \n",
      "A value is trying to be set on a copy of a slice from a DataFrame\n",
      "\n",
      "See the caveats in the documentation: https://pandas.pydata.org/pandas-docs/stable/user_guide/indexing.html#returning-a-view-versus-a-copy\n",
      "  bundesliga_2021[\"Final\"][i] = \"Descenso\"\n"
     ]
    }
   ],
   "source": [
    "# Cargamos los datos de un archivo\n",
    "bundesliga_2021 = pd.read_excel(\"../datasets/Bundesliga.xlsx\", sheet_name = \"2021\")\n",
    "# Añadimos una columna llamada \"Europe\" con las variables categóticas \"Yes\" o \"No\" en función de si han participado en las\n",
    "# competiciones europeas: Champions League o Eurpa League\n",
    "bundesliga_2021[\"League\"] = \"Bundesliga\"\n",
    "bundesliga_2021[\"Final\"] = \"Permanencia\"\n",
    "bundesliga_2021[\"Equipo\"] = \"2021\"\n",
    "for i in range(len(bundesliga_2021)):\n",
    "    if bundesliga_2021[\"Squad\"][i] in [\"Bayern Munich\", \"Dortmund\", \"Leverkusen\", \"RB Leipzig\", \"Wolfsburg\", \"Eint Frankfurt\"]:\n",
    "        bundesliga_2021[\"Final\"][i] = \"Europa\"\n",
    "    elif bundesliga_2021[\"Squad\"][i] in [\"Schalke 04\", \"Werder Bremen\", \"Köln\"]:\n",
    "        bundesliga_2021[\"Final\"][i] = \"Descenso\"\n",
    "bundesliga_2021[\"Equipo\"] = bundesliga_2021[\"Squad\"]+\" - 2021\"\n",
    "# Seleccionamos las columnas que nos interesan\n",
    "bundesliga_2021 = bundesliga_2021.loc[:, ['Equipo','Possesion', 'PenaltyKicksMade', 'YellowCards','RedCards', 'Saves', 'ShotsOnTarget', 'AverageDistanceOfShots', 'ShortPassesCompleted', 'MediumPassesCompleted', 'LongPassesCompleted', 'PassingTypeLive', 'PassingTypeDead', 'PassingTypeFreeKicks', 'PassingTypeBetweenBackDefenders', 'PassingTypeLongWidth', 'PassingTypeCrosses', 'PassingTypeThrows-In', 'PassingTypeCorners', 'DriblesAttempted', 'TouchesDefPen', 'TouchesDef3rd', 'TouchesMid3rd', 'TouchesAtt3rd', 'TouchesAttPen', 'AerialDuelsWon', 'FoulsCommited', 'Offsides', 'Interceptions', 'League', 'Final']]"
   ]
  },
  {
   "cell_type": "markdown",
   "id": "74d33f4d",
   "metadata": {},
   "source": [
    "### Cargamos y limpiamos los datos de la temporada 19/20 de la Bundesliga (Alemania):"
   ]
  },
  {
   "cell_type": "code",
   "execution_count": 24,
   "id": "d0d2e341",
   "metadata": {},
   "outputs": [
    {
     "name": "stderr",
     "output_type": "stream",
     "text": [
      "C:\\Users\\nicol\\AppData\\Local\\Temp\\ipykernel_13488\\3327696750.py:10: SettingWithCopyWarning: \n",
      "A value is trying to be set on a copy of a slice from a DataFrame\n",
      "\n",
      "See the caveats in the documentation: https://pandas.pydata.org/pandas-docs/stable/user_guide/indexing.html#returning-a-view-versus-a-copy\n",
      "  bundesliga_1920[\"Final\"][i] = \"Europa\"\n",
      "C:\\Users\\nicol\\AppData\\Local\\Temp\\ipykernel_13488\\3327696750.py:12: SettingWithCopyWarning: \n",
      "A value is trying to be set on a copy of a slice from a DataFrame\n",
      "\n",
      "See the caveats in the documentation: https://pandas.pydata.org/pandas-docs/stable/user_guide/indexing.html#returning-a-view-versus-a-copy\n",
      "  bundesliga_1920[\"Final\"][i] = \"Descenso\"\n"
     ]
    }
   ],
   "source": [
    "# Cargamos los datos de un archivo\n",
    "bundesliga_1920 = pd.read_excel(\"../datasets/Bundesliga.xlsx\", sheet_name = \"1920\")\n",
    "# Añadimos una columna llamada \"Europe\" con las variables categóticas \"Yes\" o \"No\" en función de si han participado en las\n",
    "# competiciones europeas: Champions League o Eurpa League\n",
    "bundesliga_1920[\"League\"] = \"Bundesliga\"\n",
    "bundesliga_1920[\"Final\"] = \"Permanencia\"\n",
    "bundesliga_1920[\"Equipo\"] = \"1920\"\n",
    "for i in range(len(bundesliga_1920)):\n",
    "    if bundesliga_1920[\"Squad\"][i] in [\"Bayern Munich\", \"Dortmund\", \"Leverkusen\", \"RB Leipzig\", \"Hoffenheim\", \"M'Gladbach\"]:\n",
    "        bundesliga_1920[\"Final\"][i] = \"Europa\"\n",
    "    elif bundesliga_1920[\"Squad\"][i] in [\"Paderborn 07\", \"Düsseldorf\", \"Werder Bremen\"]:\n",
    "        bundesliga_1920[\"Final\"][i] = \"Descenso\"\n",
    "bundesliga_1920[\"Equipo\"] = bundesliga_1920[\"Squad\"]+\" - 1920\"\n",
    "# Seleccionamos las columnas que nos interesan\n",
    "bundesliga_1920 = bundesliga_1920.loc[:, ['Equipo','Possesion', 'PenaltyKicksMade', 'YellowCards','RedCards', 'Saves', 'ShotsOnTarget', 'AverageDistanceOfShots', 'ShortPassesCompleted', 'MediumPassesCompleted', 'LongPassesCompleted', 'PassingTypeLive', 'PassingTypeDead', 'PassingTypeFreeKicks', 'PassingTypeBetweenBackDefenders', 'PassingTypeLongWidth', 'PassingTypeCrosses', 'PassingTypeThrows-In', 'PassingTypeCorners', 'DriblesAttempted', 'TouchesDefPen', 'TouchesDef3rd', 'TouchesMid3rd', 'TouchesAtt3rd', 'TouchesAttPen', 'AerialDuelsWon', 'FoulsCommited', 'Offsides', 'Interceptions', 'League', 'Final']]"
   ]
  },
  {
   "cell_type": "markdown",
   "id": "419d46de",
   "metadata": {},
   "source": [
    "### Cargamos y limpiamos los datos de la temporada 18/19 de la Bundesliga (Alemania):"
   ]
  },
  {
   "cell_type": "code",
   "execution_count": 25,
   "id": "9b1d08e3",
   "metadata": {},
   "outputs": [
    {
     "name": "stderr",
     "output_type": "stream",
     "text": [
      "C:\\Users\\nicol\\AppData\\Local\\Temp\\ipykernel_13488\\3297071138.py:10: SettingWithCopyWarning: \n",
      "A value is trying to be set on a copy of a slice from a DataFrame\n",
      "\n",
      "See the caveats in the documentation: https://pandas.pydata.org/pandas-docs/stable/user_guide/indexing.html#returning-a-view-versus-a-copy\n",
      "  bundesliga_1819[\"Final\"][i] = \"Europa\"\n",
      "C:\\Users\\nicol\\AppData\\Local\\Temp\\ipykernel_13488\\3297071138.py:12: SettingWithCopyWarning: \n",
      "A value is trying to be set on a copy of a slice from a DataFrame\n",
      "\n",
      "See the caveats in the documentation: https://pandas.pydata.org/pandas-docs/stable/user_guide/indexing.html#returning-a-view-versus-a-copy\n",
      "  bundesliga_1819[\"Final\"][i] = \"Descenso\"\n"
     ]
    }
   ],
   "source": [
    "# Cargamos los datos de un archivo\n",
    "bundesliga_1819 = pd.read_excel(\"../datasets/Bundesliga.xlsx\", sheet_name = \"1819\")\n",
    "# Añadimos una columna llamada \"Europe\" con las variables categóticas \"Yes\" o \"No\" en función de si han participado en las\n",
    "# competiciones europeas: Champions League o Eurpa League\n",
    "bundesliga_1819[\"League\"] = \"Bundesliga\"\n",
    "bundesliga_1819[\"Final\"] = \"Permanencia\"\n",
    "bundesliga_1819[\"Equipo\"] = \"1819\"\n",
    "for i in range(len(bundesliga_1819)):\n",
    "    if bundesliga_1819[\"Squad\"][i] in [\"Bayern Munich\", \"Dortmund\", \"Leverkusen\", \"RB Leipzig\", \"Wolfsburg\", \"M'Gladbach\"]:\n",
    "        bundesliga_1819[\"Final\"][i] = \"Europa\"\n",
    "    elif bundesliga_1819[\"Squad\"][i] in [\"Nürnberg\", \"Hannover 96\", \"Stuttgart\"]:\n",
    "        bundesliga_1819[\"Final\"][i] = \"Descenso\"\n",
    "bundesliga_1819[\"Equipo\"] = bundesliga_1819[\"Squad\"]+\" - 1819\"\n",
    "# Seleccionamos las columnas que nos interesan\n",
    "bundesliga_1819 = bundesliga_1819.loc[:, ['Equipo','Possesion', 'PenaltyKicksMade', 'YellowCards','RedCards', 'Saves', 'ShotsOnTarget', 'AverageDistanceOfShots', 'ShortPassesCompleted', 'MediumPassesCompleted', 'LongPassesCompleted', 'PassingTypeLive', 'PassingTypeDead', 'PassingTypeFreeKicks', 'PassingTypeBetweenBackDefenders', 'PassingTypeLongWidth', 'PassingTypeCrosses', 'PassingTypeThrows-In', 'PassingTypeCorners', 'DriblesAttempted', 'TouchesDefPen', 'TouchesDef3rd', 'TouchesMid3rd', 'TouchesAtt3rd', 'TouchesAttPen', 'AerialDuelsWon', 'FoulsCommited', 'Offsides', 'Interceptions', 'League', 'Final']]"
   ]
  },
  {
   "cell_type": "markdown",
   "id": "f6b4c1e2",
   "metadata": {},
   "source": [
    "### Cargamos y limpiamos los datos de la temporada 17/18 de la Bundesliga (Alemania):"
   ]
  },
  {
   "cell_type": "code",
   "execution_count": 26,
   "id": "93d76f46",
   "metadata": {},
   "outputs": [
    {
     "name": "stderr",
     "output_type": "stream",
     "text": [
      "C:\\Users\\nicol\\AppData\\Local\\Temp\\ipykernel_13488\\2990956420.py:10: SettingWithCopyWarning: \n",
      "A value is trying to be set on a copy of a slice from a DataFrame\n",
      "\n",
      "See the caveats in the documentation: https://pandas.pydata.org/pandas-docs/stable/user_guide/indexing.html#returning-a-view-versus-a-copy\n",
      "  bundesliga_1718[\"Final\"][i] = \"Europa\"\n",
      "C:\\Users\\nicol\\AppData\\Local\\Temp\\ipykernel_13488\\2990956420.py:12: SettingWithCopyWarning: \n",
      "A value is trying to be set on a copy of a slice from a DataFrame\n",
      "\n",
      "See the caveats in the documentation: https://pandas.pydata.org/pandas-docs/stable/user_guide/indexing.html#returning-a-view-versus-a-copy\n",
      "  bundesliga_1718[\"Final\"][i] = \"Descenso\"\n"
     ]
    }
   ],
   "source": [
    "# Cargamos los datos de un archivo\n",
    "bundesliga_1718 = pd.read_excel(\"../datasets/Bundesliga.xlsx\", sheet_name = \"1718\")\n",
    "# Añadimos una columna llamada \"Europe\" con las variables categóticas \"Yes\" o \"No\" en función de si han participado en las\n",
    "# competiciones europeas: Champions League o Eurpa League\n",
    "bundesliga_1718[\"League\"] = \"Bundesliga\"\n",
    "bundesliga_1718[\"Final\"] = \"Permanencia\"\n",
    "bundesliga_1718[\"Equipo\"] = \"1718\"\n",
    "for i in range(len(bundesliga_1718)):\n",
    "    if bundesliga_1718[\"Squad\"][i] in [\"Bayern Munich\", \"Dortmund\", \"Leverkusen\", \"RB Leipzig\", \"Hoffenheim\", \"Schalke 04\"]:\n",
    "        bundesliga_1718[\"Final\"][i] = \"Europa\"\n",
    "    elif bundesliga_1718[\"Squad\"][i] in [\"Köln\", \"Hamburger SV\", \"Wolfsburg\"]:\n",
    "        bundesliga_1718[\"Final\"][i] = \"Descenso\"\n",
    "bundesliga_1718[\"Equipo\"] = bundesliga_1718[\"Squad\"]+\" - 1718\"\n",
    "# Seleccionamos las columnas que nos interesan\n",
    "bundesliga_1718 = bundesliga_1718.loc[:, ['Equipo','Possesion', 'PenaltyKicksMade', 'YellowCards','RedCards', 'Saves', 'ShotsOnTarget', 'AverageDistanceOfShots', 'ShortPassesCompleted', 'MediumPassesCompleted', 'LongPassesCompleted', 'PassingTypeLive', 'PassingTypeDead', 'PassingTypeFreeKicks', 'PassingTypeBetweenBackDefenders', 'PassingTypeLongWidth', 'PassingTypeCrosses', 'PassingTypeThrows-In', 'PassingTypeCorners', 'DriblesAttempted', 'TouchesDefPen', 'TouchesDef3rd', 'TouchesMid3rd', 'TouchesAtt3rd', 'TouchesAttPen', 'AerialDuelsWon', 'FoulsCommited', 'Offsides', 'Interceptions', 'League', 'Final']]"
   ]
  },
  {
   "cell_type": "markdown",
   "id": "bdacb77d",
   "metadata": {},
   "source": [
    "### Concatenamos todos los data frames creados"
   ]
  },
  {
   "cell_type": "code",
   "execution_count": 27,
   "id": "394c8421",
   "metadata": {},
   "outputs": [],
   "source": [
    "data = pd.concat([premier_2122, premier_2021, premier_1920, premier_1819, premier_1718])\n",
    "data = pd.concat([data, laliga_2122, laliga_2021, laliga_1920, laliga_1819, laliga_1718])\n",
    "data = pd.concat([data, seriea_2122, seriea_2021, seriea_1920, seriea_1819, seriea_1718])\n",
    "data = pd.concat([data, ligue1_2122, ligue1_2021, ligue1_1920, ligue1_1819, ligue1_1718])\n",
    "data = pd.concat([data, bundesliga_2122, bundesliga_2021, bundesliga_1920, bundesliga_1819, bundesliga_1718])"
   ]
  },
  {
   "cell_type": "markdown",
   "id": "16bcdea2",
   "metadata": {},
   "source": [
    "### Mezclamos las filas del dataset"
   ]
  },
  {
   "cell_type": "code",
   "execution_count": 28,
   "id": "9d76d04b",
   "metadata": {},
   "outputs": [],
   "source": [
    "data = data.sample(frac=1).reset_index(drop=True)"
   ]
  },
  {
   "cell_type": "markdown",
   "id": "4fc91a17",
   "metadata": {},
   "source": [
    "### Quitamos la variable \"League\""
   ]
  },
  {
   "cell_type": "code",
   "execution_count": 29,
   "id": "17a969f9",
   "metadata": {},
   "outputs": [],
   "source": [
    "competicion_col = data[\"League\"].values # Nos guardamos las competiciones de cada equipo en una variable\n",
    "data = data.drop(\"League\", axis = 1)\n",
    "equipos_col = data[\"Equipo\"].values\n",
    "data = data.drop(\"Equipo\", axis = 1)"
   ]
  },
  {
   "cell_type": "markdown",
   "id": "c0afffee",
   "metadata": {},
   "source": [
    "### Definimos las variables predictoras y la variable objetivo"
   ]
  },
  {
   "cell_type": "code",
   "execution_count": 30,
   "id": "d0aa8df4",
   "metadata": {},
   "outputs": [],
   "source": [
    "column_names_Y = \"Final\"\n",
    "Y = []\n",
    "for i in range(len(data[column_names_Y])):\n",
    "    if data[column_names_Y][i] == 'Descenso':\n",
    "        Y.append(0)\n",
    "    elif data[column_names_Y][i] == 'Permanencia':\n",
    "        Y.append(1)\n",
    "    elif data[column_names_Y][i] == 'Europa':\n",
    "        Y.append(2)\n",
    "Y = np.array(Y)\n",
    "column_names_X = [v for v in data if v != \"Final\"]\n",
    "X = data[column_names_X]"
   ]
  },
  {
   "cell_type": "markdown",
   "id": "2fe7afed",
   "metadata": {},
   "source": [
    "### Normalizamos las variables predictoras"
   ]
  },
  {
   "cell_type": "code",
   "execution_count": 31,
   "id": "bb7f51d7",
   "metadata": {},
   "outputs": [],
   "source": [
    "# Inicializar el objeto StandardScaler\n",
    "scaler = StandardScaler()\n",
    "\n",
    "# Normalizar el DataFrame\n",
    "X = pd.DataFrame(scaler.fit_transform(X), columns=column_names_X)"
   ]
  },
  {
   "cell_type": "markdown",
   "id": "4da3029c",
   "metadata": {},
   "source": [
    "### Implementamos el modelo"
   ]
  },
  {
   "cell_type": "code",
   "execution_count": 32,
   "id": "6f0853dd",
   "metadata": {},
   "outputs": [
    {
     "name": "stdout",
     "output_type": "stream",
     "text": [
      "Optimization terminated successfully.\n",
      "         Current function value: 0.579421\n",
      "         Iterations 8\n",
      "                          MNLogit Regression Results                          \n",
      "==============================================================================\n",
      "Dep. Variable:                      y   No. Observations:                  490\n",
      "Model:                        MNLogit   Df Residuals:                      432\n",
      "Method:                           MLE   Df Model:                           56\n",
      "Date:                Tue, 06 Jun 2023   Pseudo R-squ.:                  0.4247\n",
      "Time:                        09:34:38   Log-Likelihood:                -283.92\n",
      "converged:                       True   LL-Null:                       -493.52\n",
      "Covariance Type:            nonrobust   LLR p-value:                 4.701e-57\n",
      "===================================================================================================\n",
      "                            y=1       coef    std err          z      P>|z|      [0.025      0.975]\n",
      "---------------------------------------------------------------------------------------------------\n",
      "const                               2.0084      0.242      8.312      0.000       1.535       2.482\n",
      "Possesion                          -0.1462      0.551     -0.265      0.791      -1.226       0.934\n",
      "PenaltyKicksMade                    0.3028      0.194      1.557      0.119      -0.078       0.684\n",
      "YellowCards                        -0.0744      0.274     -0.272      0.786      -0.611       0.462\n",
      "RedCards                            0.0118      0.170      0.069      0.945      -0.322       0.346\n",
      "Saves                              -0.4191      0.234     -1.793      0.073      -0.877       0.039\n",
      "ShotsOnTarget                       1.4601      0.402      3.637      0.000       0.673       2.247\n",
      "AverageDistanceOfShots             -0.6228      0.234     -2.660      0.008      -1.082      -0.164\n",
      "ShortPassesCompleted                3.2714      1.706      1.917      0.055      -0.073       6.616\n",
      "MediumPassesCompleted               0.5276      1.176      0.449      0.654      -1.778       2.833\n",
      "LongPassesCompleted                 0.6972      0.417      1.671      0.095      -0.120       1.515\n",
      "PassingTypeLive                    -7.0255      4.128     -1.702      0.089     -15.117       1.066\n",
      "PassingTypeDead                    -3.1516      0.940     -3.352      0.001      -4.994      -1.309\n",
      "PassingTypeFreeKicks                1.3455      0.484      2.780      0.005       0.397       2.294\n",
      "PassingTypeBetweenBackDefenders    -0.2175      0.294     -0.740      0.459      -0.794       0.359\n",
      "PassingTypeLongWidth                0.1932      0.296      0.654      0.513      -0.386       0.772\n",
      "PassingTypeCrosses                 -0.1913      0.293     -0.654      0.513      -0.765       0.382\n",
      "PassingTypeThrows-In                1.8140      0.607      2.987      0.003       0.624       3.004\n",
      "PassingTypeCorners                  1.4684      0.467      3.144      0.002       0.553       2.384\n",
      "DriblesAttempted                   -0.2004      0.222     -0.902      0.367      -0.636       0.235\n",
      "TouchesDefPen                       0.8083      0.447      1.809      0.070      -0.068       1.684\n",
      "TouchesDef3rd                       0.3468      0.846      0.410      0.682      -1.311       2.004\n",
      "TouchesMid3rd                       2.3865      1.852      1.288      0.198      -1.244       6.017\n",
      "TouchesAtt3rd                      -0.5186      1.453     -0.357      0.721      -3.366       2.329\n",
      "TouchesAttPen                      -0.6792      0.671     -1.012      0.312      -1.995       0.637\n",
      "AerialDuelsWon                     -0.0918      0.284     -0.323      0.747      -0.649       0.466\n",
      "FoulsCommited                       0.7157      0.284      2.517      0.012       0.158       1.273\n",
      "Offsides                            0.0098      0.200      0.049      0.961      -0.381       0.401\n",
      "Interceptions                      -0.3955      0.203     -1.953      0.051      -0.793       0.002\n",
      "---------------------------------------------------------------------------------------------------\n",
      "                            y=2       coef    std err          z      P>|z|      [0.025      0.975]\n",
      "---------------------------------------------------------------------------------------------------\n",
      "const                               0.3026      0.312      0.971      0.332      -0.309       0.914\n",
      "Possesion                           0.1532      0.780      0.196      0.844      -1.375       1.682\n",
      "PenaltyKicksMade                    0.8530      0.265      3.222      0.001       0.334       1.372\n",
      "YellowCards                         0.0556      0.398      0.140      0.889      -0.724       0.836\n",
      "RedCards                           -0.3308      0.247     -1.337      0.181      -0.816       0.154\n",
      "Saves                              -0.8200      0.367     -2.237      0.025      -1.538      -0.102\n",
      "ShotsOnTarget                       2.2000      0.558      3.944      0.000       1.107       3.293\n",
      "AverageDistanceOfShots             -0.6257      0.355     -1.762      0.078      -1.322       0.070\n",
      "ShortPassesCompleted                6.5665      2.497      2.629      0.009       1.672      11.461\n",
      "MediumPassesCompleted               0.8656      1.696      0.510      0.610      -2.458       4.189\n",
      "LongPassesCompleted                 1.3032      0.567      2.297      0.022       0.191       2.415\n",
      "PassingTypeLive                   -10.5110      6.216     -1.691      0.091     -22.695       1.672\n",
      "PassingTypeDead                    -6.1341      1.422     -4.313      0.000      -8.922      -3.347\n",
      "PassingTypeFreeKicks                2.4978      0.729      3.427      0.001       1.069       3.926\n",
      "PassingTypeBetweenBackDefenders     0.1777      0.373      0.476      0.634      -0.554       0.909\n",
      "PassingTypeLongWidth                0.5374      0.413      1.300      0.194      -0.273       1.348\n",
      "PassingTypeCrosses                 -0.3998      0.416     -0.960      0.337      -1.216       0.416\n",
      "PassingTypeThrows-In                3.5162      0.917      3.835      0.000       1.719       5.313\n",
      "PassingTypeCorners                  2.1697      0.647      3.352      0.001       0.901       3.438\n",
      "DriblesAttempted                   -0.6093      0.344     -1.772      0.076      -1.283       0.065\n",
      "TouchesDefPen                       0.8126      0.631      1.287      0.198      -0.425       2.050\n",
      "TouchesDef3rd                       0.3754      1.216      0.309      0.758      -2.009       2.760\n",
      "TouchesMid3rd                       2.7906      2.805      0.995      0.320      -2.706       8.287\n",
      "TouchesAtt3rd                      -2.0748      2.043     -1.015      0.310      -6.080       1.930\n",
      "TouchesAttPen                       0.5576      0.989      0.564      0.573      -1.381       2.496\n",
      "AerialDuelsWon                      0.0199      0.436      0.046      0.964      -0.834       0.874\n",
      "FoulsCommited                       0.6547      0.438      1.495      0.135      -0.204       1.513\n",
      "Offsides                            0.8127      0.288      2.825      0.005       0.249       1.377\n",
      "Interceptions                      -0.4351      0.306     -1.422      0.155      -1.035       0.165\n",
      "===================================================================================================\n"
     ]
    }
   ],
   "source": [
    "# Añadir una columna de unos para el intercepto en X\n",
    "X = sm.add_constant(X)\n",
    "\n",
    "# Ajustar el modelo de regresión ordinal\n",
    "model = sm.MNLogit(Y, X)\n",
    "result = model.fit()\n",
    "\n",
    "# Imprimir el resumen del modelo\n",
    "print(result.summary())"
   ]
  },
  {
   "cell_type": "code",
   "execution_count": 33,
   "id": "7a190c72",
   "metadata": {},
   "outputs": [],
   "source": [
    "# Obtener los coeficientes de regresión\n",
    "coeficientes = result.params"
   ]
  },
  {
   "cell_type": "markdown",
   "id": "646a8a0c",
   "metadata": {},
   "source": [
    "### Coeficientes de regresión"
   ]
  },
  {
   "cell_type": "code",
   "execution_count": 34,
   "id": "f3a467b9",
   "metadata": {},
   "outputs": [
    {
     "data": {
      "text/html": [
       "<div>\n",
       "<style scoped>\n",
       "    .dataframe tbody tr th:only-of-type {\n",
       "        vertical-align: middle;\n",
       "    }\n",
       "\n",
       "    .dataframe tbody tr th {\n",
       "        vertical-align: top;\n",
       "    }\n",
       "\n",
       "    .dataframe thead th {\n",
       "        text-align: right;\n",
       "    }\n",
       "</style>\n",
       "<table border=\"1\" class=\"dataframe\">\n",
       "  <thead>\n",
       "    <tr style=\"text-align: right;\">\n",
       "      <th></th>\n",
       "      <th>0</th>\n",
       "      <th>1</th>\n",
       "    </tr>\n",
       "  </thead>\n",
       "  <tbody>\n",
       "    <tr>\n",
       "      <th>const</th>\n",
       "      <td>2.008410</td>\n",
       "      <td>0.302619</td>\n",
       "    </tr>\n",
       "    <tr>\n",
       "      <th>Possesion</th>\n",
       "      <td>-0.146153</td>\n",
       "      <td>0.153159</td>\n",
       "    </tr>\n",
       "    <tr>\n",
       "      <th>PenaltyKicksMade</th>\n",
       "      <td>0.302831</td>\n",
       "      <td>0.852959</td>\n",
       "    </tr>\n",
       "    <tr>\n",
       "      <th>YellowCards</th>\n",
       "      <td>-0.074432</td>\n",
       "      <td>0.055595</td>\n",
       "    </tr>\n",
       "    <tr>\n",
       "      <th>RedCards</th>\n",
       "      <td>0.011799</td>\n",
       "      <td>-0.330810</td>\n",
       "    </tr>\n",
       "    <tr>\n",
       "      <th>Saves</th>\n",
       "      <td>-0.419109</td>\n",
       "      <td>-0.819967</td>\n",
       "    </tr>\n",
       "    <tr>\n",
       "      <th>ShotsOnTarget</th>\n",
       "      <td>1.460134</td>\n",
       "      <td>2.200013</td>\n",
       "    </tr>\n",
       "    <tr>\n",
       "      <th>AverageDistanceOfShots</th>\n",
       "      <td>-0.622819</td>\n",
       "      <td>-0.625696</td>\n",
       "    </tr>\n",
       "    <tr>\n",
       "      <th>ShortPassesCompleted</th>\n",
       "      <td>3.271375</td>\n",
       "      <td>6.566548</td>\n",
       "    </tr>\n",
       "    <tr>\n",
       "      <th>MediumPassesCompleted</th>\n",
       "      <td>0.527646</td>\n",
       "      <td>0.865616</td>\n",
       "    </tr>\n",
       "    <tr>\n",
       "      <th>LongPassesCompleted</th>\n",
       "      <td>0.697160</td>\n",
       "      <td>1.303187</td>\n",
       "    </tr>\n",
       "    <tr>\n",
       "      <th>PassingTypeLive</th>\n",
       "      <td>-7.025462</td>\n",
       "      <td>-10.511021</td>\n",
       "    </tr>\n",
       "    <tr>\n",
       "      <th>PassingTypeDead</th>\n",
       "      <td>-3.151583</td>\n",
       "      <td>-6.134128</td>\n",
       "    </tr>\n",
       "    <tr>\n",
       "      <th>PassingTypeFreeKicks</th>\n",
       "      <td>1.345472</td>\n",
       "      <td>2.497800</td>\n",
       "    </tr>\n",
       "    <tr>\n",
       "      <th>PassingTypeBetweenBackDefenders</th>\n",
       "      <td>-0.217502</td>\n",
       "      <td>0.177733</td>\n",
       "    </tr>\n",
       "    <tr>\n",
       "      <th>PassingTypeLongWidth</th>\n",
       "      <td>0.193214</td>\n",
       "      <td>0.537387</td>\n",
       "    </tr>\n",
       "    <tr>\n",
       "      <th>PassingTypeCrosses</th>\n",
       "      <td>-0.191262</td>\n",
       "      <td>-0.399815</td>\n",
       "    </tr>\n",
       "    <tr>\n",
       "      <th>PassingTypeThrows-In</th>\n",
       "      <td>1.814014</td>\n",
       "      <td>3.516155</td>\n",
       "    </tr>\n",
       "    <tr>\n",
       "      <th>PassingTypeCorners</th>\n",
       "      <td>1.468442</td>\n",
       "      <td>2.169666</td>\n",
       "    </tr>\n",
       "    <tr>\n",
       "      <th>DriblesAttempted</th>\n",
       "      <td>-0.200364</td>\n",
       "      <td>-0.609263</td>\n",
       "    </tr>\n",
       "    <tr>\n",
       "      <th>TouchesDefPen</th>\n",
       "      <td>0.808335</td>\n",
       "      <td>0.812615</td>\n",
       "    </tr>\n",
       "    <tr>\n",
       "      <th>TouchesDef3rd</th>\n",
       "      <td>0.346813</td>\n",
       "      <td>0.375439</td>\n",
       "    </tr>\n",
       "    <tr>\n",
       "      <th>TouchesMid3rd</th>\n",
       "      <td>2.386533</td>\n",
       "      <td>2.790586</td>\n",
       "    </tr>\n",
       "    <tr>\n",
       "      <th>TouchesAtt3rd</th>\n",
       "      <td>-0.518600</td>\n",
       "      <td>-2.074828</td>\n",
       "    </tr>\n",
       "    <tr>\n",
       "      <th>TouchesAttPen</th>\n",
       "      <td>-0.679150</td>\n",
       "      <td>0.557646</td>\n",
       "    </tr>\n",
       "    <tr>\n",
       "      <th>AerialDuelsWon</th>\n",
       "      <td>-0.091765</td>\n",
       "      <td>0.019876</td>\n",
       "    </tr>\n",
       "    <tr>\n",
       "      <th>FoulsCommited</th>\n",
       "      <td>0.715698</td>\n",
       "      <td>0.654652</td>\n",
       "    </tr>\n",
       "    <tr>\n",
       "      <th>Offsides</th>\n",
       "      <td>0.009829</td>\n",
       "      <td>0.812664</td>\n",
       "    </tr>\n",
       "    <tr>\n",
       "      <th>Interceptions</th>\n",
       "      <td>-0.395536</td>\n",
       "      <td>-0.435095</td>\n",
       "    </tr>\n",
       "  </tbody>\n",
       "</table>\n",
       "</div>"
      ],
      "text/plain": [
       "                                        0          1\n",
       "const                            2.008410   0.302619\n",
       "Possesion                       -0.146153   0.153159\n",
       "PenaltyKicksMade                 0.302831   0.852959\n",
       "YellowCards                     -0.074432   0.055595\n",
       "RedCards                         0.011799  -0.330810\n",
       "Saves                           -0.419109  -0.819967\n",
       "ShotsOnTarget                    1.460134   2.200013\n",
       "AverageDistanceOfShots          -0.622819  -0.625696\n",
       "ShortPassesCompleted             3.271375   6.566548\n",
       "MediumPassesCompleted            0.527646   0.865616\n",
       "LongPassesCompleted              0.697160   1.303187\n",
       "PassingTypeLive                 -7.025462 -10.511021\n",
       "PassingTypeDead                 -3.151583  -6.134128\n",
       "PassingTypeFreeKicks             1.345472   2.497800\n",
       "PassingTypeBetweenBackDefenders -0.217502   0.177733\n",
       "PassingTypeLongWidth             0.193214   0.537387\n",
       "PassingTypeCrosses              -0.191262  -0.399815\n",
       "PassingTypeThrows-In             1.814014   3.516155\n",
       "PassingTypeCorners               1.468442   2.169666\n",
       "DriblesAttempted                -0.200364  -0.609263\n",
       "TouchesDefPen                    0.808335   0.812615\n",
       "TouchesDef3rd                    0.346813   0.375439\n",
       "TouchesMid3rd                    2.386533   2.790586\n",
       "TouchesAtt3rd                   -0.518600  -2.074828\n",
       "TouchesAttPen                   -0.679150   0.557646\n",
       "AerialDuelsWon                  -0.091765   0.019876\n",
       "FoulsCommited                    0.715698   0.654652\n",
       "Offsides                         0.009829   0.812664\n",
       "Interceptions                   -0.395536  -0.435095"
      ]
     },
     "execution_count": 34,
     "metadata": {},
     "output_type": "execute_result"
    }
   ],
   "source": [
    "coeficientes"
   ]
  },
  {
   "cell_type": "markdown",
   "id": "9a94332d",
   "metadata": {},
   "source": [
    "### Odds ratios"
   ]
  },
  {
   "cell_type": "code",
   "execution_count": 35,
   "id": "28c539b2",
   "metadata": {
    "scrolled": false
   },
   "outputs": [
    {
     "data": {
      "text/html": [
       "<div>\n",
       "<style scoped>\n",
       "    .dataframe tbody tr th:only-of-type {\n",
       "        vertical-align: middle;\n",
       "    }\n",
       "\n",
       "    .dataframe tbody tr th {\n",
       "        vertical-align: top;\n",
       "    }\n",
       "\n",
       "    .dataframe thead th {\n",
       "        text-align: right;\n",
       "    }\n",
       "</style>\n",
       "<table border=\"1\" class=\"dataframe\">\n",
       "  <thead>\n",
       "    <tr style=\"text-align: right;\">\n",
       "      <th></th>\n",
       "      <th>0</th>\n",
       "      <th>1</th>\n",
       "    </tr>\n",
       "  </thead>\n",
       "  <tbody>\n",
       "    <tr>\n",
       "      <th>const</th>\n",
       "      <td>7.451460</td>\n",
       "      <td>1.353398</td>\n",
       "    </tr>\n",
       "    <tr>\n",
       "      <th>Possesion</th>\n",
       "      <td>0.864025</td>\n",
       "      <td>1.165510</td>\n",
       "    </tr>\n",
       "    <tr>\n",
       "      <th>PenaltyKicksMade</th>\n",
       "      <td>1.353686</td>\n",
       "      <td>2.346581</td>\n",
       "    </tr>\n",
       "    <tr>\n",
       "      <th>YellowCards</th>\n",
       "      <td>0.928270</td>\n",
       "      <td>1.057170</td>\n",
       "    </tr>\n",
       "    <tr>\n",
       "      <th>RedCards</th>\n",
       "      <td>1.011869</td>\n",
       "      <td>0.718342</td>\n",
       "    </tr>\n",
       "    <tr>\n",
       "      <th>Saves</th>\n",
       "      <td>0.657632</td>\n",
       "      <td>0.440446</td>\n",
       "    </tr>\n",
       "    <tr>\n",
       "      <th>ShotsOnTarget</th>\n",
       "      <td>4.306537</td>\n",
       "      <td>9.025133</td>\n",
       "    </tr>\n",
       "    <tr>\n",
       "      <th>AverageDistanceOfShots</th>\n",
       "      <td>0.536430</td>\n",
       "      <td>0.534889</td>\n",
       "    </tr>\n",
       "    <tr>\n",
       "      <th>ShortPassesCompleted</th>\n",
       "      <td>26.347532</td>\n",
       "      <td>710.911851</td>\n",
       "    </tr>\n",
       "    <tr>\n",
       "      <th>MediumPassesCompleted</th>\n",
       "      <td>1.694937</td>\n",
       "      <td>2.376468</td>\n",
       "    </tr>\n",
       "    <tr>\n",
       "      <th>LongPassesCompleted</th>\n",
       "      <td>2.008041</td>\n",
       "      <td>3.681010</td>\n",
       "    </tr>\n",
       "    <tr>\n",
       "      <th>PassingTypeLive</th>\n",
       "      <td>0.000889</td>\n",
       "      <td>0.000027</td>\n",
       "    </tr>\n",
       "    <tr>\n",
       "      <th>PassingTypeDead</th>\n",
       "      <td>0.042784</td>\n",
       "      <td>0.002168</td>\n",
       "    </tr>\n",
       "    <tr>\n",
       "      <th>PassingTypeFreeKicks</th>\n",
       "      <td>3.839999</td>\n",
       "      <td>12.155718</td>\n",
       "    </tr>\n",
       "    <tr>\n",
       "      <th>PassingTypeBetweenBackDefenders</th>\n",
       "      <td>0.804526</td>\n",
       "      <td>1.194506</td>\n",
       "    </tr>\n",
       "    <tr>\n",
       "      <th>PassingTypeLongWidth</th>\n",
       "      <td>1.213142</td>\n",
       "      <td>1.711530</td>\n",
       "    </tr>\n",
       "    <tr>\n",
       "      <th>PassingTypeCrosses</th>\n",
       "      <td>0.825916</td>\n",
       "      <td>0.670444</td>\n",
       "    </tr>\n",
       "    <tr>\n",
       "      <th>PassingTypeThrows-In</th>\n",
       "      <td>6.135022</td>\n",
       "      <td>33.654773</td>\n",
       "    </tr>\n",
       "    <tr>\n",
       "      <th>PassingTypeCorners</th>\n",
       "      <td>4.342466</td>\n",
       "      <td>8.755362</td>\n",
       "    </tr>\n",
       "    <tr>\n",
       "      <th>DriblesAttempted</th>\n",
       "      <td>0.818433</td>\n",
       "      <td>0.543752</td>\n",
       "    </tr>\n",
       "    <tr>\n",
       "      <th>TouchesDefPen</th>\n",
       "      <td>2.244168</td>\n",
       "      <td>2.253795</td>\n",
       "    </tr>\n",
       "    <tr>\n",
       "      <th>TouchesDef3rd</th>\n",
       "      <td>1.414553</td>\n",
       "      <td>1.455631</td>\n",
       "    </tr>\n",
       "    <tr>\n",
       "      <th>TouchesMid3rd</th>\n",
       "      <td>10.875726</td>\n",
       "      <td>16.290564</td>\n",
       "    </tr>\n",
       "    <tr>\n",
       "      <th>TouchesAtt3rd</th>\n",
       "      <td>0.595353</td>\n",
       "      <td>0.125578</td>\n",
       "    </tr>\n",
       "    <tr>\n",
       "      <th>TouchesAttPen</th>\n",
       "      <td>0.507048</td>\n",
       "      <td>1.746556</td>\n",
       "    </tr>\n",
       "    <tr>\n",
       "      <th>AerialDuelsWon</th>\n",
       "      <td>0.912320</td>\n",
       "      <td>1.020075</td>\n",
       "    </tr>\n",
       "    <tr>\n",
       "      <th>FoulsCommited</th>\n",
       "      <td>2.045613</td>\n",
       "      <td>1.924473</td>\n",
       "    </tr>\n",
       "    <tr>\n",
       "      <th>Offsides</th>\n",
       "      <td>1.009878</td>\n",
       "      <td>2.253904</td>\n",
       "    </tr>\n",
       "    <tr>\n",
       "      <th>Interceptions</th>\n",
       "      <td>0.673319</td>\n",
       "      <td>0.647203</td>\n",
       "    </tr>\n",
       "  </tbody>\n",
       "</table>\n",
       "</div>"
      ],
      "text/plain": [
       "                                         0           1\n",
       "const                             7.451460    1.353398\n",
       "Possesion                         0.864025    1.165510\n",
       "PenaltyKicksMade                  1.353686    2.346581\n",
       "YellowCards                       0.928270    1.057170\n",
       "RedCards                          1.011869    0.718342\n",
       "Saves                             0.657632    0.440446\n",
       "ShotsOnTarget                     4.306537    9.025133\n",
       "AverageDistanceOfShots            0.536430    0.534889\n",
       "ShortPassesCompleted             26.347532  710.911851\n",
       "MediumPassesCompleted             1.694937    2.376468\n",
       "LongPassesCompleted               2.008041    3.681010\n",
       "PassingTypeLive                   0.000889    0.000027\n",
       "PassingTypeDead                   0.042784    0.002168\n",
       "PassingTypeFreeKicks              3.839999   12.155718\n",
       "PassingTypeBetweenBackDefenders   0.804526    1.194506\n",
       "PassingTypeLongWidth              1.213142    1.711530\n",
       "PassingTypeCrosses                0.825916    0.670444\n",
       "PassingTypeThrows-In              6.135022   33.654773\n",
       "PassingTypeCorners                4.342466    8.755362\n",
       "DriblesAttempted                  0.818433    0.543752\n",
       "TouchesDefPen                     2.244168    2.253795\n",
       "TouchesDef3rd                     1.414553    1.455631\n",
       "TouchesMid3rd                    10.875726   16.290564\n",
       "TouchesAtt3rd                     0.595353    0.125578\n",
       "TouchesAttPen                     0.507048    1.746556\n",
       "AerialDuelsWon                    0.912320    1.020075\n",
       "FoulsCommited                     2.045613    1.924473\n",
       "Offsides                          1.009878    2.253904\n",
       "Interceptions                     0.673319    0.647203"
      ]
     },
     "execution_count": 35,
     "metadata": {},
     "output_type": "execute_result"
    }
   ],
   "source": [
    "# Calcular los odds ratios\n",
    "odds_ratios = np.exp(coeficientes)\n",
    "odds_ratios"
   ]
  },
  {
   "cell_type": "markdown",
   "id": "2ab440a0",
   "metadata": {},
   "source": [
    "### Creamos una tabla auxiliar para facilitar la creación del gráfico de odds ratios"
   ]
  },
  {
   "cell_type": "code",
   "execution_count": 36,
   "id": "ea490fa6",
   "metadata": {
    "scrolled": true
   },
   "outputs": [],
   "source": [
    "params = list(result.params[0][1:29])\n",
    "conf = result.conf_int()[1:29]\n",
    "conf['Odds Ratio'] = params\n",
    "conf.columns = ['2.5%', '97.5%', 'Odds Ratio']\n",
    "# convert log odds to ORs\n",
    "odds = pd.DataFrame(np.exp(conf))\n",
    "#odds"
   ]
  },
  {
   "cell_type": "markdown",
   "id": "431e3c84",
   "metadata": {},
   "source": [
    "### Gráfico de odds ratios para comparar la categoría 0 (Descenso) con la categoría 1 (Permanencia)"
   ]
  },
  {
   "cell_type": "code",
   "execution_count": 37,
   "id": "2c2334d9",
   "metadata": {},
   "outputs": [
    {
     "data": {
      "image/png": "[encoded data removed]",
      "text/plain": [
       "<Figure size 900x600 with 1 Axes>"
      ]
     },
     "metadata": {},
     "output_type": "display_data"
    }
   ],
   "source": [
    "plt.figure(figsize=(6, 4), dpi=150)\n",
    "ci = [odds.iloc[::-1]['Odds Ratio'] - odds.iloc[::-1]['2.5%'].values, odds.iloc[::-1]['97.5%'].values - odds.iloc[::-1]['Odds Ratio']]\n",
    "plt.errorbar(x=odds.iloc[::-1]['Odds Ratio'], y=np.array([tupla[1] for tupla in odds.iloc[::-1].index.values]), xerr=ci,\n",
    "            color='black',  capsize=3, linestyle='None', linewidth=1,\n",
    "            marker=\"o\", markersize=5, mfc=\"black\", mec=\"black\")\n",
    "plt.axvline(x=1, linewidth=0.8, linestyle='--', color='black')\n",
    "plt.xscale('log')  # Cambio para escala logarítmica en el eje x\n",
    "plt.tick_params(axis='both', which='major', labelsize=8)\n",
    "plt.xlabel('Odds Ratio and 95% Confidence Interval', fontsize=8)\n",
    "plt.tight_layout()\n",
    "# plt.savefig('raw_forest_plot.png')\n",
    "# Obtener índices de los puntos a pintar\n",
    "indices_rojo = np.where((odds.iloc[::-1]['97.5%'].values <= 1))[0]\n",
    "indices_azul = np.where((odds.iloc[::-1]['2.5%'].values >= 1))[0]\n",
    "\n",
    "# Pintar los puntos en rojo y azul\n",
    "plt.scatter(odds.iloc[::-1]['Odds Ratio'].iloc[indices_rojo], np.array([tupla[1] for tupla in odds.iloc[::-1].index.values])[indices_rojo], color='red', label='Intervalo a la derecha de x=1')\n",
    "plt.scatter(odds.iloc[::-1]['Odds Ratio'].iloc[indices_azul], np.array([tupla[1] for tupla in odds.iloc[::-1].index.values])[indices_azul], color='blue', label='Intervalo a la izquierda de x=1')\n",
    "\n",
    "plt.show()"
   ]
  },
  {
   "cell_type": "markdown",
   "id": "0e26a289",
   "metadata": {},
   "source": [
    "### Creamos una tabla auxiliar para facilitar la creación del gráfico de odds ratios"
   ]
  },
  {
   "cell_type": "code",
   "execution_count": 38,
   "id": "eacee0c1",
   "metadata": {
    "scrolled": true
   },
   "outputs": [],
   "source": [
    "params = list(result.params[1][1:29])\n",
    "conf = result.conf_int()[30:58]\n",
    "conf['Odds Ratio'] = params\n",
    "conf.columns = ['2.5%', '97.5%', 'Odds Ratio']\n",
    "# convert log odds to ORs\n",
    "odds = pd.DataFrame(np.exp(conf))\n",
    "#odds"
   ]
  },
  {
   "cell_type": "markdown",
   "id": "a899b11d",
   "metadata": {},
   "source": [
    "### Gráfico de odds ratios para comparar la categoría 0 (Descenso) con la categoría 2 (Europa)"
   ]
  },
  {
   "cell_type": "code",
   "execution_count": 39,
   "id": "ecd3b2f7",
   "metadata": {},
   "outputs": [
    {
     "data": {
      "image/png": "[encoded data removed]",
      "text/plain": [
       "<Figure size 900x600 with 1 Axes>"
      ]
     },
     "metadata": {},
     "output_type": "display_data"
    }
   ],
   "source": [
    "plt.figure(figsize=(6, 4), dpi=150)\n",
    "ci = [odds.iloc[::-1]['Odds Ratio'] - odds.iloc[::-1]['2.5%'].values, odds.iloc[::-1]['97.5%'].values - odds.iloc[::-1]['Odds Ratio']]\n",
    "plt.errorbar(x=odds.iloc[::-1]['Odds Ratio'], y=np.array([tupla[1] for tupla in odds.iloc[::-1].index.values]), xerr=ci,\n",
    "            color='black',  capsize=3, linestyle='None', linewidth=1,\n",
    "            marker=\"o\", markersize=5, mfc=\"black\", mec=\"black\")\n",
    "plt.axvline(x=1, linewidth=0.8, linestyle='--', color='black')\n",
    "plt.xscale('log')  # Cambio para escala logarítmica en el eje x\n",
    "plt.tick_params(axis='both', which='major', labelsize=8)\n",
    "plt.xlabel('Odds Ratio and 95% Confidence Interval', fontsize=8)\n",
    "plt.tight_layout()\n",
    "# plt.savefig('raw_forest_plot.png')\n",
    "# Obtener índices de los puntos a pintar\n",
    "indices_rojo = np.where((odds.iloc[::-1]['97.5%'].values <= 1))[0]\n",
    "indices_azul = np.where((odds.iloc[::-1]['2.5%'].values >= 1))[0]\n",
    "\n",
    "# Pintar los puntos en rojo y azul\n",
    "plt.scatter(odds.iloc[::-1]['Odds Ratio'].iloc[indices_rojo], np.array([tupla[1] for tupla in odds.iloc[::-1].index.values])[indices_rojo], color='red', label='Intervalo a la derecha de x=1')\n",
    "plt.scatter(odds.iloc[::-1]['Odds Ratio'].iloc[indices_azul], np.array([tupla[1] for tupla in odds.iloc[::-1].index.values])[indices_azul], color='blue', label='Intervalo a la izquierda de x=1')\n",
    "\n",
    "plt.show()"
   ]
  },
  {
   "cell_type": "markdown",
   "id": "0cda8ed3",
   "metadata": {},
   "source": [
    "# <center>Método STEPWISE</center>"
   ]
  },
  {
   "cell_type": "code",
   "execution_count": 40,
   "id": "2cc49e85",
   "metadata": {},
   "outputs": [],
   "source": [
    "def stepwise_max_score(X, y, initial_list=[], verbose=True):\n",
    "    included = list(initial_list)\n",
    "    while len(included) < len(X.columns):\n",
    "        changed = False\n",
    "        excluded = list(set(X.columns) - set(included))\n",
    "        best_r = 0\n",
    "        for new_column in excluded:\n",
    "            model = sm.MNLogit(y, sm.add_constant(X[included + [new_column]])).fit(disp=False)\n",
    "            included_result = model.prsquared\n",
    "            if included_result > best_r and new_column != \"const\":\n",
    "                best_r = included_result\n",
    "                best_feature = new_column\n",
    "        included.append(best_feature)\n",
    "        if len(included) == len(X.columns):\n",
    "            break\n",
    "        changed = True\n",
    "        if verbose:\n",
    "            print('Add {:30} with p-value {:.6f}'.format(best_feature, best_r))\n",
    "        if not changed:\n",
    "            break\n",
    "\n",
    "        for col in included:\n",
    "            if col != best_feature and col != \"const\":\n",
    "                new_included = included.copy()\n",
    "                new_included.pop(new_included.index(col))\n",
    "                model = sm.MNLogit(y, sm.add_constant(X[new_included])).fit(disp=False)\n",
    "                then_result = model.prsquared\n",
    "                if included_result < then_result :\n",
    "                    included.remove(col)\n",
    "                    changed = True\n",
    "                    if verbose:\n",
    "                        print('Drop {:30}'.format(col))\n",
    "\n",
    "    return included"
   ]
  },
  {
   "cell_type": "code",
   "execution_count": 41,
   "id": "b90d32a8",
   "metadata": {},
   "outputs": [
    {
     "name": "stdout",
     "output_type": "stream",
     "text": [
      "Add ShotsOnTarget                  with p-value 0.231673\n",
      "Add Saves                          with p-value 0.285458\n",
      "Add Offsides                       with p-value 0.299800\n",
      "Add PassingTypeDead                with p-value 0.323734\n",
      "Add PenaltyKicksMade               with p-value 0.338797\n",
      "Add FoulsCommited                  with p-value 0.347189\n",
      "Add Interceptions                  with p-value 0.354940\n",
      "Add TouchesAtt3rd                  with p-value 0.360838\n",
      "Drop FoulsCommited                 \n",
      "Add AverageDistanceOfShots         with p-value 0.362459\n",
      "Add FoulsCommited                  with p-value 0.369953\n",
      "Drop Interceptions                 \n"
     ]
    },
    {
     "ename": "KeyboardInterrupt",
     "evalue": "",
     "output_type": "error",
     "traceback": [
      "\u001b[1;31m---------------------------------------------------------------------------\u001b[0m",
      "\u001b[1;31mKeyboardInterrupt\u001b[0m                         Traceback (most recent call last)",
      "\u001b[1;32m~\\AppData\\Local\\Temp\\ipykernel_13488\\2797523649.py\u001b[0m in \u001b[0;36m<module>\u001b[1;34m\u001b[0m\n\u001b[1;32m----> 1\u001b[1;33m \u001b[0mstepwise_max_score\u001b[0m\u001b[1;33m(\u001b[0m\u001b[0mX\u001b[0m\u001b[1;33m,\u001b[0m \u001b[0mY\u001b[0m\u001b[1;33m)\u001b[0m\u001b[1;33m\u001b[0m\u001b[1;33m\u001b[0m\u001b[0m\n\u001b[0m",
      "\u001b[1;32m~\\AppData\\Local\\Temp\\ipykernel_13488\\4268226681.py\u001b[0m in \u001b[0;36mstepwise_max_score\u001b[1;34m(X, y, initial_list, verbose)\u001b[0m\n\u001b[0;32m      7\u001b[0m         \u001b[1;32mfor\u001b[0m \u001b[0mnew_column\u001b[0m \u001b[1;32min\u001b[0m \u001b[0mexcluded\u001b[0m\u001b[1;33m:\u001b[0m\u001b[1;33m\u001b[0m\u001b[1;33m\u001b[0m\u001b[0m\n\u001b[0;32m      8\u001b[0m             \u001b[0mmodel\u001b[0m \u001b[1;33m=\u001b[0m \u001b[0msm\u001b[0m\u001b[1;33m.\u001b[0m\u001b[0mMNLogit\u001b[0m\u001b[1;33m(\u001b[0m\u001b[0my\u001b[0m\u001b[1;33m,\u001b[0m \u001b[0msm\u001b[0m\u001b[1;33m.\u001b[0m\u001b[0madd_constant\u001b[0m\u001b[1;33m(\u001b[0m\u001b[0mX\u001b[0m\u001b[1;33m[\u001b[0m\u001b[0mincluded\u001b[0m \u001b[1;33m+\u001b[0m \u001b[1;33m[\u001b[0m\u001b[0mnew_column\u001b[0m\u001b[1;33m]\u001b[0m\u001b[1;33m]\u001b[0m\u001b[1;33m)\u001b[0m\u001b[1;33m)\u001b[0m\u001b[1;33m.\u001b[0m\u001b[0mfit\u001b[0m\u001b[1;33m(\u001b[0m\u001b[0mdisp\u001b[0m\u001b[1;33m=\u001b[0m\u001b[1;32mFalse\u001b[0m\u001b[1;33m)\u001b[0m\u001b[1;33m\u001b[0m\u001b[1;33m\u001b[0m\u001b[0m\n\u001b[1;32m----> 9\u001b[1;33m             \u001b[0mincluded_result\u001b[0m \u001b[1;33m=\u001b[0m \u001b[0mmodel\u001b[0m\u001b[1;33m.\u001b[0m\u001b[0mprsquared\u001b[0m\u001b[1;33m\u001b[0m\u001b[1;33m\u001b[0m\u001b[0m\n\u001b[0m\u001b[0;32m     10\u001b[0m             \u001b[1;32mif\u001b[0m \u001b[0mincluded_result\u001b[0m \u001b[1;33m>\u001b[0m \u001b[0mbest_r\u001b[0m \u001b[1;32mand\u001b[0m \u001b[0mnew_column\u001b[0m \u001b[1;33m!=\u001b[0m \u001b[1;34m\"const\"\u001b[0m\u001b[1;33m:\u001b[0m\u001b[1;33m\u001b[0m\u001b[1;33m\u001b[0m\u001b[0m\n\u001b[0;32m     11\u001b[0m                 \u001b[0mbest_r\u001b[0m \u001b[1;33m=\u001b[0m \u001b[0mincluded_result\u001b[0m\u001b[1;33m\u001b[0m\u001b[1;33m\u001b[0m\u001b[0m\n",
      "\u001b[1;32m~\\anaconda3\\lib\\site-packages\\statsmodels\\base\\wrapper.py\u001b[0m in \u001b[0;36m__getattribute__\u001b[1;34m(self, attr)\u001b[0m\n\u001b[0;32m     32\u001b[0m             \u001b[1;32mpass\u001b[0m\u001b[1;33m\u001b[0m\u001b[1;33m\u001b[0m\u001b[0m\n\u001b[0;32m     33\u001b[0m \u001b[1;33m\u001b[0m\u001b[0m\n\u001b[1;32m---> 34\u001b[1;33m         \u001b[0mobj\u001b[0m \u001b[1;33m=\u001b[0m \u001b[0mgetattr\u001b[0m\u001b[1;33m(\u001b[0m\u001b[0mresults\u001b[0m\u001b[1;33m,\u001b[0m \u001b[0mattr\u001b[0m\u001b[1;33m)\u001b[0m\u001b[1;33m\u001b[0m\u001b[1;33m\u001b[0m\u001b[0m\n\u001b[0m\u001b[0;32m     35\u001b[0m         \u001b[0mdata\u001b[0m \u001b[1;33m=\u001b[0m \u001b[0mresults\u001b[0m\u001b[1;33m.\u001b[0m\u001b[0mmodel\u001b[0m\u001b[1;33m.\u001b[0m\u001b[0mdata\u001b[0m\u001b[1;33m\u001b[0m\u001b[1;33m\u001b[0m\u001b[0m\n\u001b[0;32m     36\u001b[0m         \u001b[0mhow\u001b[0m \u001b[1;33m=\u001b[0m \u001b[0mself\u001b[0m\u001b[1;33m.\u001b[0m\u001b[0m_wrap_attrs\u001b[0m\u001b[1;33m.\u001b[0m\u001b[0mget\u001b[0m\u001b[1;33m(\u001b[0m\u001b[0mattr\u001b[0m\u001b[1;33m)\u001b[0m\u001b[1;33m\u001b[0m\u001b[1;33m\u001b[0m\u001b[0m\n",
      "\u001b[1;32m~\\anaconda3\\lib\\site-packages\\pandas\\_libs\\properties.pyx\u001b[0m in \u001b[0;36mpandas._libs.properties.CachedProperty.__get__\u001b[1;34m()\u001b[0m\n",
      "\u001b[1;32m~\\anaconda3\\lib\\site-packages\\statsmodels\\discrete\\discrete_model.py\u001b[0m in \u001b[0;36mprsquared\u001b[1;34m(self)\u001b[0m\n\u001b[0;32m   3509\u001b[0m         \u001b[0mMcFadden\u001b[0m\u001b[0;31m'\u001b[0m\u001b[0ms\u001b[0m \u001b[0mpseudo\u001b[0m\u001b[1;33m-\u001b[0m\u001b[0mR\u001b[0m\u001b[1;33m-\u001b[0m\u001b[0msquared\u001b[0m\u001b[1;33m.\u001b[0m\u001b[0;31m \u001b[0m\u001b[0;31m`\u001b[0m\u001b[1;36m1\u001b[0m \u001b[1;33m-\u001b[0m \u001b[1;33m(\u001b[0m\u001b[0mllf\u001b[0m \u001b[1;33m/\u001b[0m \u001b[0mllnull\u001b[0m\u001b[1;33m)\u001b[0m\u001b[0;31m`\u001b[0m\u001b[1;33m\u001b[0m\u001b[1;33m\u001b[0m\u001b[0m\n\u001b[0;32m   3510\u001b[0m         \"\"\"\n\u001b[1;32m-> 3511\u001b[1;33m         \u001b[1;32mreturn\u001b[0m \u001b[1;36m1\u001b[0m \u001b[1;33m-\u001b[0m \u001b[0mself\u001b[0m\u001b[1;33m.\u001b[0m\u001b[0mllf\u001b[0m\u001b[1;33m/\u001b[0m\u001b[0mself\u001b[0m\u001b[1;33m.\u001b[0m\u001b[0mllnull\u001b[0m\u001b[1;33m\u001b[0m\u001b[1;33m\u001b[0m\u001b[0m\n\u001b[0m\u001b[0;32m   3512\u001b[0m \u001b[1;33m\u001b[0m\u001b[0m\n\u001b[0;32m   3513\u001b[0m     \u001b[1;33m@\u001b[0m\u001b[0mcache_readonly\u001b[0m\u001b[1;33m\u001b[0m\u001b[1;33m\u001b[0m\u001b[0m\n",
      "\u001b[1;32m~\\anaconda3\\lib\\site-packages\\pandas\\_libs\\properties.pyx\u001b[0m in \u001b[0;36mpandas._libs.properties.CachedProperty.__get__\u001b[1;34m()\u001b[0m\n",
      "\u001b[1;32m~\\anaconda3\\lib\\site-packages\\statsmodels\\discrete\\discrete_model.py\u001b[0m in \u001b[0;36mllnull\u001b[1;34m(self)\u001b[0m\n\u001b[0;32m   3602\u001b[0m         \u001b[1;32melse\u001b[0m\u001b[1;33m:\u001b[0m\u001b[1;33m\u001b[0m\u001b[1;33m\u001b[0m\u001b[0m\n\u001b[0;32m   3603\u001b[0m             \u001b[1;31m# this should be a reasonably method case across versions\u001b[0m\u001b[1;33m\u001b[0m\u001b[1;33m\u001b[0m\u001b[0m\n\u001b[1;32m-> 3604\u001b[1;33m             res_null = mod_null.fit(start_params=sp_null, method='nm',\n\u001b[0m\u001b[0;32m   3605\u001b[0m                                     \u001b[0mwarn_convergence\u001b[0m\u001b[1;33m=\u001b[0m\u001b[1;32mFalse\u001b[0m\u001b[1;33m,\u001b[0m\u001b[1;33m\u001b[0m\u001b[1;33m\u001b[0m\u001b[0m\n\u001b[0;32m   3606\u001b[0m                                     maxiter=10000, disp=0)\n",
      "\u001b[1;32m~\\anaconda3\\lib\\site-packages\\statsmodels\\discrete\\discrete_model.py\u001b[0m in \u001b[0;36mfit\u001b[1;34m(self, start_params, method, maxiter, full_output, disp, callback, **kwargs)\u001b[0m\n\u001b[0;32m    652\u001b[0m         \u001b[0mcallback\u001b[0m \u001b[1;33m=\u001b[0m \u001b[1;32mlambda\u001b[0m \u001b[0mx\u001b[0m \u001b[1;33m:\u001b[0m \u001b[1;32mNone\u001b[0m \u001b[1;31m# placeholder until check_perfect_pred\u001b[0m\u001b[1;33m\u001b[0m\u001b[1;33m\u001b[0m\u001b[0m\n\u001b[0;32m    653\u001b[0m         \u001b[1;31m# skip calling super to handle results from LikelihoodModel\u001b[0m\u001b[1;33m\u001b[0m\u001b[1;33m\u001b[0m\u001b[0m\n\u001b[1;32m--> 654\u001b[1;33m         mnfit = base.LikelihoodModel.fit(self, start_params = start_params,\n\u001b[0m\u001b[0;32m    655\u001b[0m                 \u001b[0mmethod\u001b[0m\u001b[1;33m=\u001b[0m\u001b[0mmethod\u001b[0m\u001b[1;33m,\u001b[0m \u001b[0mmaxiter\u001b[0m\u001b[1;33m=\u001b[0m\u001b[0mmaxiter\u001b[0m\u001b[1;33m,\u001b[0m \u001b[0mfull_output\u001b[0m\u001b[1;33m=\u001b[0m\u001b[0mfull_output\u001b[0m\u001b[1;33m,\u001b[0m\u001b[1;33m\u001b[0m\u001b[1;33m\u001b[0m\u001b[0m\n\u001b[0;32m    656\u001b[0m                 disp=disp, callback=callback, **kwargs)\n",
      "\u001b[1;32m~\\anaconda3\\lib\\site-packages\\statsmodels\\base\\model.py\u001b[0m in \u001b[0;36mfit\u001b[1;34m(self, start_params, method, maxiter, full_output, disp, fargs, callback, retall, skip_hessian, **kwargs)\u001b[0m\n\u001b[0;32m    561\u001b[0m \u001b[1;33m\u001b[0m\u001b[0m\n\u001b[0;32m    562\u001b[0m         \u001b[0moptimizer\u001b[0m \u001b[1;33m=\u001b[0m \u001b[0mOptimizer\u001b[0m\u001b[1;33m(\u001b[0m\u001b[1;33m)\u001b[0m\u001b[1;33m\u001b[0m\u001b[1;33m\u001b[0m\u001b[0m\n\u001b[1;32m--> 563\u001b[1;33m         xopt, retvals, optim_settings = optimizer._fit(f, score, start_params,\n\u001b[0m\u001b[0;32m    564\u001b[0m                                                        \u001b[0mfargs\u001b[0m\u001b[1;33m,\u001b[0m \u001b[0mkwargs\u001b[0m\u001b[1;33m,\u001b[0m\u001b[1;33m\u001b[0m\u001b[1;33m\u001b[0m\u001b[0m\n\u001b[0;32m    565\u001b[0m                                                        \u001b[0mhessian\u001b[0m\u001b[1;33m=\u001b[0m\u001b[0mhess\u001b[0m\u001b[1;33m,\u001b[0m\u001b[1;33m\u001b[0m\u001b[1;33m\u001b[0m\u001b[0m\n",
      "\u001b[1;32m~\\anaconda3\\lib\\site-packages\\statsmodels\\base\\optimizer.py\u001b[0m in \u001b[0;36m_fit\u001b[1;34m(self, objective, gradient, start_params, fargs, kwargs, hessian, method, maxiter, full_output, disp, callback, retall)\u001b[0m\n\u001b[0;32m    239\u001b[0m \u001b[1;33m\u001b[0m\u001b[0m\n\u001b[0;32m    240\u001b[0m         \u001b[0mfunc\u001b[0m \u001b[1;33m=\u001b[0m \u001b[0mfit_funcs\u001b[0m\u001b[1;33m[\u001b[0m\u001b[0mmethod\u001b[0m\u001b[1;33m]\u001b[0m\u001b[1;33m\u001b[0m\u001b[1;33m\u001b[0m\u001b[0m\n\u001b[1;32m--> 241\u001b[1;33m         xopt, retvals = func(objective, gradient, start_params, fargs, kwargs,\n\u001b[0m\u001b[0;32m    242\u001b[0m                              \u001b[0mdisp\u001b[0m\u001b[1;33m=\u001b[0m\u001b[0mdisp\u001b[0m\u001b[1;33m,\u001b[0m \u001b[0mmaxiter\u001b[0m\u001b[1;33m=\u001b[0m\u001b[0mmaxiter\u001b[0m\u001b[1;33m,\u001b[0m \u001b[0mcallback\u001b[0m\u001b[1;33m=\u001b[0m\u001b[0mcallback\u001b[0m\u001b[1;33m,\u001b[0m\u001b[1;33m\u001b[0m\u001b[1;33m\u001b[0m\u001b[0m\n\u001b[0;32m    243\u001b[0m                              \u001b[0mretall\u001b[0m\u001b[1;33m=\u001b[0m\u001b[0mretall\u001b[0m\u001b[1;33m,\u001b[0m \u001b[0mfull_output\u001b[0m\u001b[1;33m=\u001b[0m\u001b[0mfull_output\u001b[0m\u001b[1;33m,\u001b[0m\u001b[1;33m\u001b[0m\u001b[1;33m\u001b[0m\u001b[0m\n",
      "\u001b[1;32m~\\anaconda3\\lib\\site-packages\\statsmodels\\base\\optimizer.py\u001b[0m in \u001b[0;36m_fit_nm\u001b[1;34m(f, score, start_params, fargs, kwargs, disp, maxiter, callback, retall, full_output, hess)\u001b[0m\n\u001b[0;32m    726\u001b[0m     \u001b[0mftol\u001b[0m \u001b[1;33m=\u001b[0m \u001b[0mkwargs\u001b[0m\u001b[1;33m.\u001b[0m\u001b[0msetdefault\u001b[0m\u001b[1;33m(\u001b[0m\u001b[1;34m'ftol'\u001b[0m\u001b[1;33m,\u001b[0m \u001b[1;36m0.0001\u001b[0m\u001b[1;33m)\u001b[0m\u001b[1;33m\u001b[0m\u001b[1;33m\u001b[0m\u001b[0m\n\u001b[0;32m    727\u001b[0m     \u001b[0mmaxfun\u001b[0m \u001b[1;33m=\u001b[0m \u001b[0mkwargs\u001b[0m\u001b[1;33m.\u001b[0m\u001b[0msetdefault\u001b[0m\u001b[1;33m(\u001b[0m\u001b[1;34m'maxfun'\u001b[0m\u001b[1;33m,\u001b[0m \u001b[1;32mNone\u001b[0m\u001b[1;33m)\u001b[0m\u001b[1;33m\u001b[0m\u001b[1;33m\u001b[0m\u001b[0m\n\u001b[1;32m--> 728\u001b[1;33m     retvals = optimize.fmin(f, start_params, args=fargs, xtol=xtol,\n\u001b[0m\u001b[0;32m    729\u001b[0m                             \u001b[0mftol\u001b[0m\u001b[1;33m=\u001b[0m\u001b[0mftol\u001b[0m\u001b[1;33m,\u001b[0m \u001b[0mmaxiter\u001b[0m\u001b[1;33m=\u001b[0m\u001b[0mmaxiter\u001b[0m\u001b[1;33m,\u001b[0m \u001b[0mmaxfun\u001b[0m\u001b[1;33m=\u001b[0m\u001b[0mmaxfun\u001b[0m\u001b[1;33m,\u001b[0m\u001b[1;33m\u001b[0m\u001b[1;33m\u001b[0m\u001b[0m\n\u001b[0;32m    730\u001b[0m                             \u001b[0mfull_output\u001b[0m\u001b[1;33m=\u001b[0m\u001b[0mfull_output\u001b[0m\u001b[1;33m,\u001b[0m \u001b[0mdisp\u001b[0m\u001b[1;33m=\u001b[0m\u001b[0mdisp\u001b[0m\u001b[1;33m,\u001b[0m \u001b[0mretall\u001b[0m\u001b[1;33m=\u001b[0m\u001b[0mretall\u001b[0m\u001b[1;33m,\u001b[0m\u001b[1;33m\u001b[0m\u001b[1;33m\u001b[0m\u001b[0m\n",
      "\u001b[1;32m~\\anaconda3\\lib\\site-packages\\scipy\\optimize\\_optimize.py\u001b[0m in \u001b[0;36mfmin\u001b[1;34m(func, x0, args, xtol, ftol, maxiter, maxfun, full_output, disp, retall, callback, initial_simplex)\u001b[0m\n\u001b[0;32m    620\u001b[0m             'initial_simplex': initial_simplex}\n\u001b[0;32m    621\u001b[0m \u001b[1;33m\u001b[0m\u001b[0m\n\u001b[1;32m--> 622\u001b[1;33m     \u001b[0mres\u001b[0m \u001b[1;33m=\u001b[0m \u001b[0m_minimize_neldermead\u001b[0m\u001b[1;33m(\u001b[0m\u001b[0mfunc\u001b[0m\u001b[1;33m,\u001b[0m \u001b[0mx0\u001b[0m\u001b[1;33m,\u001b[0m \u001b[0margs\u001b[0m\u001b[1;33m,\u001b[0m \u001b[0mcallback\u001b[0m\u001b[1;33m=\u001b[0m\u001b[0mcallback\u001b[0m\u001b[1;33m,\u001b[0m \u001b[1;33m**\u001b[0m\u001b[0mopts\u001b[0m\u001b[1;33m)\u001b[0m\u001b[1;33m\u001b[0m\u001b[1;33m\u001b[0m\u001b[0m\n\u001b[0m\u001b[0;32m    623\u001b[0m     \u001b[1;32mif\u001b[0m \u001b[0mfull_output\u001b[0m\u001b[1;33m:\u001b[0m\u001b[1;33m\u001b[0m\u001b[1;33m\u001b[0m\u001b[0m\n\u001b[0;32m    624\u001b[0m         \u001b[0mretlist\u001b[0m \u001b[1;33m=\u001b[0m \u001b[0mres\u001b[0m\u001b[1;33m[\u001b[0m\u001b[1;34m'x'\u001b[0m\u001b[1;33m]\u001b[0m\u001b[1;33m,\u001b[0m \u001b[0mres\u001b[0m\u001b[1;33m[\u001b[0m\u001b[1;34m'fun'\u001b[0m\u001b[1;33m]\u001b[0m\u001b[1;33m,\u001b[0m \u001b[0mres\u001b[0m\u001b[1;33m[\u001b[0m\u001b[1;34m'nit'\u001b[0m\u001b[1;33m]\u001b[0m\u001b[1;33m,\u001b[0m \u001b[0mres\u001b[0m\u001b[1;33m[\u001b[0m\u001b[1;34m'nfev'\u001b[0m\u001b[1;33m]\u001b[0m\u001b[1;33m,\u001b[0m \u001b[0mres\u001b[0m\u001b[1;33m[\u001b[0m\u001b[1;34m'status'\u001b[0m\u001b[1;33m]\u001b[0m\u001b[1;33m\u001b[0m\u001b[1;33m\u001b[0m\u001b[0m\n",
      "\u001b[1;32m~\\anaconda3\\lib\\site-packages\\scipy\\optimize\\_optimize.py\u001b[0m in \u001b[0;36m_minimize_neldermead\u001b[1;34m(func, x0, args, callback, maxiter, maxfev, disp, return_all, initial_simplex, xatol, fatol, adaptive, bounds, **unknown_options)\u001b[0m\n\u001b[0;32m    795\u001b[0m             \u001b[1;32mif\u001b[0m \u001b[0mbounds\u001b[0m \u001b[1;32mis\u001b[0m \u001b[1;32mnot\u001b[0m \u001b[1;32mNone\u001b[0m\u001b[1;33m:\u001b[0m\u001b[1;33m\u001b[0m\u001b[1;33m\u001b[0m\u001b[0m\n\u001b[0;32m    796\u001b[0m                 \u001b[0mxr\u001b[0m \u001b[1;33m=\u001b[0m \u001b[0mnp\u001b[0m\u001b[1;33m.\u001b[0m\u001b[0mclip\u001b[0m\u001b[1;33m(\u001b[0m\u001b[0mxr\u001b[0m\u001b[1;33m,\u001b[0m \u001b[0mlower_bound\u001b[0m\u001b[1;33m,\u001b[0m \u001b[0mupper_bound\u001b[0m\u001b[1;33m)\u001b[0m\u001b[1;33m\u001b[0m\u001b[1;33m\u001b[0m\u001b[0m\n\u001b[1;32m--> 797\u001b[1;33m             \u001b[0mfxr\u001b[0m \u001b[1;33m=\u001b[0m \u001b[0mfunc\u001b[0m\u001b[1;33m(\u001b[0m\u001b[0mxr\u001b[0m\u001b[1;33m)\u001b[0m\u001b[1;33m\u001b[0m\u001b[1;33m\u001b[0m\u001b[0m\n\u001b[0m\u001b[0;32m    798\u001b[0m             \u001b[0mdoshrink\u001b[0m \u001b[1;33m=\u001b[0m \u001b[1;36m0\u001b[0m\u001b[1;33m\u001b[0m\u001b[1;33m\u001b[0m\u001b[0m\n\u001b[0;32m    799\u001b[0m \u001b[1;33m\u001b[0m\u001b[0m\n",
      "\u001b[1;32m~\\anaconda3\\lib\\site-packages\\scipy\\optimize\\_optimize.py\u001b[0m in \u001b[0;36mfunction_wrapper\u001b[1;34m(x, *wrapper_args)\u001b[0m\n\u001b[0;32m    494\u001b[0m         \u001b[0mncalls\u001b[0m\u001b[1;33m[\u001b[0m\u001b[1;36m0\u001b[0m\u001b[1;33m]\u001b[0m \u001b[1;33m+=\u001b[0m \u001b[1;36m1\u001b[0m\u001b[1;33m\u001b[0m\u001b[1;33m\u001b[0m\u001b[0m\n\u001b[0;32m    495\u001b[0m         \u001b[1;31m# A copy of x is sent to the user function (gh13740)\u001b[0m\u001b[1;33m\u001b[0m\u001b[1;33m\u001b[0m\u001b[0m\n\u001b[1;32m--> 496\u001b[1;33m         \u001b[0mfx\u001b[0m \u001b[1;33m=\u001b[0m \u001b[0mfunction\u001b[0m\u001b[1;33m(\u001b[0m\u001b[0mnp\u001b[0m\u001b[1;33m.\u001b[0m\u001b[0mcopy\u001b[0m\u001b[1;33m(\u001b[0m\u001b[0mx\u001b[0m\u001b[1;33m)\u001b[0m\u001b[1;33m,\u001b[0m \u001b[1;33m*\u001b[0m\u001b[1;33m(\u001b[0m\u001b[0mwrapper_args\u001b[0m \u001b[1;33m+\u001b[0m \u001b[0margs\u001b[0m\u001b[1;33m)\u001b[0m\u001b[1;33m)\u001b[0m\u001b[1;33m\u001b[0m\u001b[1;33m\u001b[0m\u001b[0m\n\u001b[0m\u001b[0;32m    497\u001b[0m         \u001b[1;31m# Ideally, we'd like to a have a true scalar returned from f(x). For\u001b[0m\u001b[1;33m\u001b[0m\u001b[1;33m\u001b[0m\u001b[0m\n\u001b[0;32m    498\u001b[0m         \u001b[1;31m# backwards-compatibility, also allow np.array([1.3]),\u001b[0m\u001b[1;33m\u001b[0m\u001b[1;33m\u001b[0m\u001b[0m\n",
      "\u001b[1;32m~\\anaconda3\\lib\\site-packages\\statsmodels\\base\\model.py\u001b[0m in \u001b[0;36mf\u001b[1;34m(params, *args)\u001b[0m\n\u001b[0;32m    529\u001b[0m \u001b[1;33m\u001b[0m\u001b[0m\n\u001b[0;32m    530\u001b[0m         \u001b[1;32mdef\u001b[0m \u001b[0mf\u001b[0m\u001b[1;33m(\u001b[0m\u001b[0mparams\u001b[0m\u001b[1;33m,\u001b[0m \u001b[1;33m*\u001b[0m\u001b[0margs\u001b[0m\u001b[1;33m)\u001b[0m\u001b[1;33m:\u001b[0m\u001b[1;33m\u001b[0m\u001b[1;33m\u001b[0m\u001b[0m\n\u001b[1;32m--> 531\u001b[1;33m             \u001b[1;32mreturn\u001b[0m \u001b[1;33m-\u001b[0m\u001b[0mself\u001b[0m\u001b[1;33m.\u001b[0m\u001b[0mloglike\u001b[0m\u001b[1;33m(\u001b[0m\u001b[0mparams\u001b[0m\u001b[1;33m,\u001b[0m \u001b[1;33m*\u001b[0m\u001b[0margs\u001b[0m\u001b[1;33m)\u001b[0m \u001b[1;33m/\u001b[0m \u001b[0mnobs\u001b[0m\u001b[1;33m\u001b[0m\u001b[1;33m\u001b[0m\u001b[0m\n\u001b[0m\u001b[0;32m    532\u001b[0m \u001b[1;33m\u001b[0m\u001b[0m\n\u001b[0;32m    533\u001b[0m         \u001b[1;32mif\u001b[0m \u001b[0mmethod\u001b[0m \u001b[1;33m==\u001b[0m \u001b[1;34m'newton'\u001b[0m\u001b[1;33m:\u001b[0m\u001b[1;33m\u001b[0m\u001b[1;33m\u001b[0m\u001b[0m\n",
      "\u001b[1;32m~\\anaconda3\\lib\\site-packages\\statsmodels\\discrete\\discrete_model.py\u001b[0m in \u001b[0;36mloglike\u001b[1;34m(self, params)\u001b[0m\n\u001b[0;32m   2329\u001b[0m         \u001b[0mparams\u001b[0m \u001b[1;33m=\u001b[0m \u001b[0mparams\u001b[0m\u001b[1;33m.\u001b[0m\u001b[0mreshape\u001b[0m\u001b[1;33m(\u001b[0m\u001b[0mself\u001b[0m\u001b[1;33m.\u001b[0m\u001b[0mK\u001b[0m\u001b[1;33m,\u001b[0m \u001b[1;33m-\u001b[0m\u001b[1;36m1\u001b[0m\u001b[1;33m,\u001b[0m \u001b[0morder\u001b[0m\u001b[1;33m=\u001b[0m\u001b[1;34m'F'\u001b[0m\u001b[1;33m)\u001b[0m\u001b[1;33m\u001b[0m\u001b[1;33m\u001b[0m\u001b[0m\n\u001b[0;32m   2330\u001b[0m         \u001b[0md\u001b[0m \u001b[1;33m=\u001b[0m \u001b[0mself\u001b[0m\u001b[1;33m.\u001b[0m\u001b[0mwendog\u001b[0m\u001b[1;33m\u001b[0m\u001b[1;33m\u001b[0m\u001b[0m\n\u001b[1;32m-> 2331\u001b[1;33m         \u001b[0mlogprob\u001b[0m \u001b[1;33m=\u001b[0m \u001b[0mnp\u001b[0m\u001b[1;33m.\u001b[0m\u001b[0mlog\u001b[0m\u001b[1;33m(\u001b[0m\u001b[0mself\u001b[0m\u001b[1;33m.\u001b[0m\u001b[0mcdf\u001b[0m\u001b[1;33m(\u001b[0m\u001b[0mnp\u001b[0m\u001b[1;33m.\u001b[0m\u001b[0mdot\u001b[0m\u001b[1;33m(\u001b[0m\u001b[0mself\u001b[0m\u001b[1;33m.\u001b[0m\u001b[0mexog\u001b[0m\u001b[1;33m,\u001b[0m\u001b[0mparams\u001b[0m\u001b[1;33m)\u001b[0m\u001b[1;33m)\u001b[0m\u001b[1;33m)\u001b[0m\u001b[1;33m\u001b[0m\u001b[1;33m\u001b[0m\u001b[0m\n\u001b[0m\u001b[0;32m   2332\u001b[0m         \u001b[1;32mreturn\u001b[0m \u001b[0mnp\u001b[0m\u001b[1;33m.\u001b[0m\u001b[0msum\u001b[0m\u001b[1;33m(\u001b[0m\u001b[0md\u001b[0m \u001b[1;33m*\u001b[0m \u001b[0mlogprob\u001b[0m\u001b[1;33m)\u001b[0m\u001b[1;33m\u001b[0m\u001b[1;33m\u001b[0m\u001b[0m\n\u001b[0;32m   2333\u001b[0m \u001b[1;33m\u001b[0m\u001b[0m\n",
      "\u001b[1;32m~\\anaconda3\\lib\\site-packages\\statsmodels\\discrete\\discrete_model.py\u001b[0m in \u001b[0;36mcdf\u001b[1;34m(self, X)\u001b[0m\n\u001b[0;32m   2297\u001b[0m         \u001b[1;33m.\u001b[0m\u001b[1;33m.\u001b[0m \u001b[0mmath\u001b[0m\u001b[1;33m:\u001b[0m\u001b[1;33m:\u001b[0m\u001b[0;31m \u001b[0m\u001b[0;31m\\\u001b[0m\u001b[0;31m\\\u001b[0m\u001b[0mfrac\u001b[0m\u001b[1;33m{\u001b[0m\u001b[0;31m\\\u001b[0m\u001b[0;31m\\\u001b[0m\u001b[0mexp\u001b[0m\u001b[0;31m\\\u001b[0m\u001b[0;31m\\\u001b[0m\u001b[0mleft\u001b[0m\u001b[1;33m(\u001b[0m\u001b[0;31m\\\u001b[0m\u001b[0;31m\\\u001b[0m\u001b[0mbeta_\u001b[0m\u001b[1;33m{\u001b[0m\u001b[0mj\u001b[0m\u001b[1;33m}\u001b[0m\u001b[1;33m^\u001b[0m\u001b[1;33m{\u001b[0m\u001b[0;31m\\\u001b[0m\u001b[0;31m\\\u001b[0m\u001b[0mprime\u001b[0m\u001b[1;33m}\u001b[0m\u001b[0mx_\u001b[0m\u001b[1;33m{\u001b[0m\u001b[0mi\u001b[0m\u001b[1;33m}\u001b[0m\u001b[0;31m\\\u001b[0m\u001b[0;31m\\\u001b[0m\u001b[0mright\u001b[0m\u001b[1;33m)\u001b[0m\u001b[1;33m}\u001b[0m\u001b[1;33m{\u001b[0m\u001b[0;31m\\\u001b[0m\u001b[0;31m\\\u001b[0m\u001b[0msum_\u001b[0m\u001b[1;33m{\u001b[0m\u001b[0mk\u001b[0m\u001b[1;33m=\u001b[0m\u001b[1;36m0\u001b[0m\u001b[1;33m}\u001b[0m\u001b[1;33m^\u001b[0m\u001b[1;33m{\u001b[0m\u001b[0mJ\u001b[0m\u001b[1;33m}\u001b[0m\u001b[0;31m\\\u001b[0m\u001b[0;31m\\\u001b[0m\u001b[0mexp\u001b[0m\u001b[0;31m\\\u001b[0m\u001b[0;31m\\\u001b[0m\u001b[0mleft\u001b[0m\u001b[1;33m(\u001b[0m\u001b[0;31m\\\u001b[0m\u001b[0;31m\\\u001b[0m\u001b[0mbeta_\u001b[0m\u001b[1;33m{\u001b[0m\u001b[0mk\u001b[0m\u001b[1;33m}\u001b[0m\u001b[1;33m^\u001b[0m\u001b[1;33m{\u001b[0m\u001b[0;31m\\\u001b[0m\u001b[0;31m\\\u001b[0m\u001b[0mprime\u001b[0m\u001b[1;33m}\u001b[0m\u001b[0mx_\u001b[0m\u001b[1;33m{\u001b[0m\u001b[0mi\u001b[0m\u001b[1;33m}\u001b[0m\u001b[0;31m\\\u001b[0m\u001b[0;31m\\\u001b[0m\u001b[0mright\u001b[0m\u001b[1;33m)\u001b[0m\u001b[1;33m}\u001b[0m\u001b[1;33m\u001b[0m\u001b[1;33m\u001b[0m\u001b[0m\n\u001b[0;32m   2298\u001b[0m         \"\"\"\n\u001b[1;32m-> 2299\u001b[1;33m         \u001b[0meXB\u001b[0m \u001b[1;33m=\u001b[0m \u001b[0mnp\u001b[0m\u001b[1;33m.\u001b[0m\u001b[0mcolumn_stack\u001b[0m\u001b[1;33m(\u001b[0m\u001b[1;33m(\u001b[0m\u001b[0mnp\u001b[0m\u001b[1;33m.\u001b[0m\u001b[0mones\u001b[0m\u001b[1;33m(\u001b[0m\u001b[0mlen\u001b[0m\u001b[1;33m(\u001b[0m\u001b[0mX\u001b[0m\u001b[1;33m)\u001b[0m\u001b[1;33m)\u001b[0m\u001b[1;33m,\u001b[0m \u001b[0mnp\u001b[0m\u001b[1;33m.\u001b[0m\u001b[0mexp\u001b[0m\u001b[1;33m(\u001b[0m\u001b[0mX\u001b[0m\u001b[1;33m)\u001b[0m\u001b[1;33m)\u001b[0m\u001b[1;33m)\u001b[0m\u001b[1;33m\u001b[0m\u001b[1;33m\u001b[0m\u001b[0m\n\u001b[0m\u001b[0;32m   2300\u001b[0m         \u001b[1;32mreturn\u001b[0m \u001b[0meXB\u001b[0m\u001b[1;33m/\u001b[0m\u001b[0meXB\u001b[0m\u001b[1;33m.\u001b[0m\u001b[0msum\u001b[0m\u001b[1;33m(\u001b[0m\u001b[1;36m1\u001b[0m\u001b[1;33m)\u001b[0m\u001b[1;33m[\u001b[0m\u001b[1;33m:\u001b[0m\u001b[1;33m,\u001b[0m\u001b[1;32mNone\u001b[0m\u001b[1;33m]\u001b[0m\u001b[1;33m\u001b[0m\u001b[1;33m\u001b[0m\u001b[0m\n\u001b[0;32m   2301\u001b[0m \u001b[1;33m\u001b[0m\u001b[0m\n",
      "\u001b[1;31mKeyboardInterrupt\u001b[0m: "
     ]
    }
   ],
   "source": [
    "stepwise_max_score(X, Y)"
   ]
  },
  {
   "cell_type": "code",
   "execution_count": 43,
   "id": "76813a30",
   "metadata": {},
   "outputs": [],
   "source": [
    "def stepwise_feature_selection(X, y, initial_list=[], threshold_in=0.3, threshold_out=0.15, verbose=True):\n",
    "    included = list(initial_list)\n",
    "    while True:\n",
    "        changed = False\n",
    "        excluded = list(set(X.columns) - set(included))\n",
    "        best_pval_max = 1\n",
    "        for new_column in excluded:\n",
    "            model = sm.MNLogit(y, sm.add_constant(X[included + [new_column]])).fit(disp=False)\n",
    "            pvals = model.pvalues\n",
    "            if pvals.loc[new_column][0] < pvals.loc[new_column][1]:\n",
    "                aux_pval_min_min = pvals.loc[new_column][0]\n",
    "                aux_pval_min_max = pvals.loc[new_column][1]\n",
    "            else:\n",
    "                aux_pval_min_max = pvals.loc[new_column][0]\n",
    "                aux_pval_min_min = pvals.loc[new_column][1]\n",
    "                        \n",
    "            if aux_pval_min_max < best_pval_max and new_column != \"const\":\n",
    "                best_pval_max = aux_pval_min_max\n",
    "                best_feature = new_column\n",
    "        if best_pval_max < threshold_in:\n",
    "            included.append(best_feature)\n",
    "            changed = True\n",
    "            if verbose:\n",
    "                print('Add {:30} with p-value {:.6f}'.format(best_feature, best_pval_max))\n",
    "        if not changed:\n",
    "            break\n",
    "\n",
    "    return included"
   ]
  },
  {
   "cell_type": "code",
   "execution_count": 44,
   "id": "4f06a2df",
   "metadata": {},
   "outputs": [
    {
     "name": "stdout",
     "output_type": "stream",
     "text": [
      "Add ShotsOnTarget                  with p-value 0.000007\n",
      "Add Saves                          with p-value 0.000551\n",
      "Add Interceptions                  with p-value 0.019456\n",
      "Add PenaltyKicksMade               with p-value 0.069679\n",
      "Add TouchesAtt3rd                  with p-value 0.062799\n",
      "Add AverageDistanceOfShots         with p-value 0.014418\n",
      "Add PassingTypeLongWidth           with p-value 0.078507\n",
      "Add ShortPassesCompleted           with p-value 0.267457\n",
      "Add FoulsCommited                  with p-value 0.206574\n",
      "Add TouchesDef3rd                  with p-value 0.251171\n"
     ]
    },
    {
     "data": {
      "text/plain": [
       "['ShotsOnTarget',\n",
       " 'Saves',\n",
       " 'Interceptions',\n",
       " 'PenaltyKicksMade',\n",
       " 'TouchesAtt3rd',\n",
       " 'AverageDistanceOfShots',\n",
       " 'PassingTypeLongWidth',\n",
       " 'ShortPassesCompleted',\n",
       " 'FoulsCommited',\n",
       " 'TouchesDef3rd']"
      ]
     },
     "execution_count": 44,
     "metadata": {},
     "output_type": "execute_result"
    }
   ],
   "source": [
    "stepwise_feature_selection(X, Y)"
   ]
  },
  {
   "cell_type": "code",
   "execution_count": 45,
   "id": "3583a618",
   "metadata": {},
   "outputs": [
    {
     "name": "stdout",
     "output_type": "stream",
     "text": [
      "Optimization terminated successfully.\n",
      "         Current function value: 0.648676\n",
      "         Iterations 7\n"
     ]
    },
    {
     "data": {
      "text/html": [
       "<table class=\"simpletable\">\n",
       "<caption>MNLogit Regression Results</caption>\n",
       "<tr>\n",
       "  <th>Dep. Variable:</th>           <td>y</td>        <th>  No. Observations:  </th>  <td>   490</td>  \n",
       "</tr>\n",
       "<tr>\n",
       "  <th>Model:</th>                <td>MNLogit</td>     <th>  Df Residuals:      </th>  <td>   468</td>  \n",
       "</tr>\n",
       "<tr>\n",
       "  <th>Method:</th>                 <td>MLE</td>       <th>  Df Model:          </th>  <td>    20</td>  \n",
       "</tr>\n",
       "<tr>\n",
       "  <th>Date:</th>            <td>Tue, 06 Jun 2023</td> <th>  Pseudo R-squ.:     </th>  <td>0.3559</td>  \n",
       "</tr>\n",
       "<tr>\n",
       "  <th>Time:</th>                <td>09:35:44</td>     <th>  Log-Likelihood:    </th> <td> -317.85</td> \n",
       "</tr>\n",
       "<tr>\n",
       "  <th>converged:</th>             <td>True</td>       <th>  LL-Null:           </th> <td> -493.52</td> \n",
       "</tr>\n",
       "<tr>\n",
       "  <th>Covariance Type:</th>     <td>nonrobust</td>    <th>  LLR p-value:       </th> <td>2.371e-62</td>\n",
       "</tr>\n",
       "</table>\n",
       "<table class=\"simpletable\">\n",
       "<tr>\n",
       "            <th>y=1</th>             <th>coef</th>     <th>std err</th>      <th>z</th>      <th>P>|z|</th>  <th>[0.025</th>    <th>0.975]</th>  \n",
       "</tr>\n",
       "<tr>\n",
       "  <th>const</th>                  <td>    1.8863</td> <td>    0.216</td> <td>    8.718</td> <td> 0.000</td> <td>    1.462</td> <td>    2.310</td>\n",
       "</tr>\n",
       "<tr>\n",
       "  <th>ShotsOnTarget</th>          <td>    1.4588</td> <td>    0.315</td> <td>    4.638</td> <td> 0.000</td> <td>    0.842</td> <td>    2.075</td>\n",
       "</tr>\n",
       "<tr>\n",
       "  <th>Saves</th>                  <td>   -0.4324</td> <td>    0.165</td> <td>   -2.625</td> <td> 0.009</td> <td>   -0.755</td> <td>   -0.109</td>\n",
       "</tr>\n",
       "<tr>\n",
       "  <th>Interceptions</th>          <td>   -0.2775</td> <td>    0.144</td> <td>   -1.921</td> <td> 0.055</td> <td>   -0.561</td> <td>    0.006</td>\n",
       "</tr>\n",
       "<tr>\n",
       "  <th>PenaltyKicksMade</th>       <td>    0.2527</td> <td>    0.170</td> <td>    1.484</td> <td> 0.138</td> <td>   -0.081</td> <td>    0.587</td>\n",
       "</tr>\n",
       "<tr>\n",
       "  <th>TouchesAtt3rd</th>          <td>   -1.7775</td> <td>    0.437</td> <td>   -4.063</td> <td> 0.000</td> <td>   -2.635</td> <td>   -0.920</td>\n",
       "</tr>\n",
       "<tr>\n",
       "  <th>AverageDistanceOfShots</th> <td>   -0.5846</td> <td>    0.171</td> <td>   -3.423</td> <td> 0.001</td> <td>   -0.919</td> <td>   -0.250</td>\n",
       "</tr>\n",
       "<tr>\n",
       "  <th>PassingTypeLongWidth</th>   <td>    0.2971</td> <td>    0.188</td> <td>    1.582</td> <td> 0.114</td> <td>   -0.071</td> <td>    0.665</td>\n",
       "</tr>\n",
       "<tr>\n",
       "  <th>ShortPassesCompleted</th>   <td>    0.8686</td> <td>    0.441</td> <td>    1.972</td> <td> 0.049</td> <td>    0.005</td> <td>    1.732</td>\n",
       "</tr>\n",
       "<tr>\n",
       "  <th>FoulsCommited</th>          <td>    0.4070</td> <td>    0.161</td> <td>    2.520</td> <td> 0.012</td> <td>    0.090</td> <td>    0.724</td>\n",
       "</tr>\n",
       "<tr>\n",
       "  <th>TouchesDef3rd</th>          <td>   -0.2274</td> <td>    0.198</td> <td>   -1.148</td> <td> 0.251</td> <td>   -0.616</td> <td>    0.161</td>\n",
       "</tr>\n",
       "<tr>\n",
       "            <th>y=2</th>             <th>coef</th>     <th>std err</th>      <th>z</th>      <th>P>|z|</th>  <th>[0.025</th>    <th>0.975]</th>  \n",
       "</tr>\n",
       "<tr>\n",
       "  <th>const</th>                  <td>    0.4721</td> <td>    0.259</td> <td>    1.820</td> <td> 0.069</td> <td>   -0.036</td> <td>    0.981</td>\n",
       "</tr>\n",
       "<tr>\n",
       "  <th>ShotsOnTarget</th>          <td>    2.7310</td> <td>    0.411</td> <td>    6.649</td> <td> 0.000</td> <td>    1.926</td> <td>    3.536</td>\n",
       "</tr>\n",
       "<tr>\n",
       "  <th>Saves</th>                  <td>   -1.1314</td> <td>    0.257</td> <td>   -4.408</td> <td> 0.000</td> <td>   -1.634</td> <td>   -0.628</td>\n",
       "</tr>\n",
       "<tr>\n",
       "  <th>Interceptions</th>          <td>   -0.4761</td> <td>    0.214</td> <td>   -2.222</td> <td> 0.026</td> <td>   -0.896</td> <td>   -0.056</td>\n",
       "</tr>\n",
       "<tr>\n",
       "  <th>PenaltyKicksMade</th>       <td>    0.6860</td> <td>    0.224</td> <td>    3.067</td> <td> 0.002</td> <td>    0.248</td> <td>    1.124</td>\n",
       "</tr>\n",
       "<tr>\n",
       "  <th>TouchesAtt3rd</th>          <td>   -2.5549</td> <td>    0.555</td> <td>   -4.601</td> <td> 0.000</td> <td>   -3.643</td> <td>   -1.467</td>\n",
       "</tr>\n",
       "<tr>\n",
       "  <th>AverageDistanceOfShots</th> <td>   -1.0889</td> <td>    0.236</td> <td>   -4.613</td> <td> 0.000</td> <td>   -1.551</td> <td>   -0.626</td>\n",
       "</tr>\n",
       "<tr>\n",
       "  <th>PassingTypeLongWidth</th>   <td>    0.6324</td> <td>    0.243</td> <td>    2.601</td> <td> 0.009</td> <td>    0.156</td> <td>    1.109</td>\n",
       "</tr>\n",
       "<tr>\n",
       "  <th>ShortPassesCompleted</th>   <td>    1.9833</td> <td>    0.569</td> <td>    3.484</td> <td> 0.000</td> <td>    0.868</td> <td>    3.099</td>\n",
       "</tr>\n",
       "<tr>\n",
       "  <th>FoulsCommited</th>          <td>    0.3047</td> <td>    0.230</td> <td>    1.324</td> <td> 0.186</td> <td>   -0.146</td> <td>    0.756</td>\n",
       "</tr>\n",
       "<tr>\n",
       "  <th>TouchesDef3rd</th>          <td>   -0.6162</td> <td>    0.269</td> <td>   -2.295</td> <td> 0.022</td> <td>   -1.142</td> <td>   -0.090</td>\n",
       "</tr>\n",
       "</table>"
      ],
      "text/plain": [
       "<class 'statsmodels.iolib.summary.Summary'>\n",
       "\"\"\"\n",
       "                          MNLogit Regression Results                          \n",
       "==============================================================================\n",
       "Dep. Variable:                      y   No. Observations:                  490\n",
       "Model:                        MNLogit   Df Residuals:                      468\n",
       "Method:                           MLE   Df Model:                           20\n",
       "Date:                Tue, 06 Jun 2023   Pseudo R-squ.:                  0.3559\n",
       "Time:                        09:35:44   Log-Likelihood:                -317.85\n",
       "converged:                       True   LL-Null:                       -493.52\n",
       "Covariance Type:            nonrobust   LLR p-value:                 2.371e-62\n",
       "==========================================================================================\n",
       "                   y=1       coef    std err          z      P>|z|      [0.025      0.975]\n",
       "------------------------------------------------------------------------------------------\n",
       "const                      1.8863      0.216      8.718      0.000       1.462       2.310\n",
       "ShotsOnTarget              1.4588      0.315      4.638      0.000       0.842       2.075\n",
       "Saves                     -0.4324      0.165     -2.625      0.009      -0.755      -0.109\n",
       "Interceptions             -0.2775      0.144     -1.921      0.055      -0.561       0.006\n",
       "PenaltyKicksMade           0.2527      0.170      1.484      0.138      -0.081       0.587\n",
       "TouchesAtt3rd             -1.7775      0.437     -4.063      0.000      -2.635      -0.920\n",
       "AverageDistanceOfShots    -0.5846      0.171     -3.423      0.001      -0.919      -0.250\n",
       "PassingTypeLongWidth       0.2971      0.188      1.582      0.114      -0.071       0.665\n",
       "ShortPassesCompleted       0.8686      0.441      1.972      0.049       0.005       1.732\n",
       "FoulsCommited              0.4070      0.161      2.520      0.012       0.090       0.724\n",
       "TouchesDef3rd             -0.2274      0.198     -1.148      0.251      -0.616       0.161\n",
       "------------------------------------------------------------------------------------------\n",
       "                   y=2       coef    std err          z      P>|z|      [0.025      0.975]\n",
       "------------------------------------------------------------------------------------------\n",
       "const                      0.4721      0.259      1.820      0.069      -0.036       0.981\n",
       "ShotsOnTarget              2.7310      0.411      6.649      0.000       1.926       3.536\n",
       "Saves                     -1.1314      0.257     -4.408      0.000      -1.634      -0.628\n",
       "Interceptions             -0.4761      0.214     -2.222      0.026      -0.896      -0.056\n",
       "PenaltyKicksMade           0.6860      0.224      3.067      0.002       0.248       1.124\n",
       "TouchesAtt3rd             -2.5549      0.555     -4.601      0.000      -3.643      -1.467\n",
       "AverageDistanceOfShots    -1.0889      0.236     -4.613      0.000      -1.551      -0.626\n",
       "PassingTypeLongWidth       0.6324      0.243      2.601      0.009       0.156       1.109\n",
       "ShortPassesCompleted       1.9833      0.569      3.484      0.000       0.868       3.099\n",
       "FoulsCommited              0.3047      0.230      1.324      0.186      -0.146       0.756\n",
       "TouchesDef3rd             -0.6162      0.269     -2.295      0.022      -1.142      -0.090\n",
       "==========================================================================================\n",
       "\"\"\""
      ]
     },
     "execution_count": 45,
     "metadata": {},
     "output_type": "execute_result"
    }
   ],
   "source": [
    "#Select our final 3 features.\n",
    "final_features = ['ShotsOnTarget',\n",
    " 'Saves',\n",
    " 'Interceptions',\n",
    " 'PenaltyKicksMade',\n",
    " 'TouchesAtt3rd',\n",
    " 'AverageDistanceOfShots',\n",
    " 'PassingTypeLongWidth',\n",
    " 'ShortPassesCompleted',\n",
    " 'FoulsCommited',\n",
    " 'TouchesDef3rd']\n",
    "final_X = X[final_features]\n",
    "final_model = sm.MNLogit(Y, sm.add_constant(final_X)).fit()\n",
    "final_model.summary()"
   ]
  },
  {
   "cell_type": "code",
   "execution_count": 46,
   "id": "20784f4f",
   "metadata": {},
   "outputs": [
    {
     "data": {
      "text/plain": [
       "1.7587011654470806e-06"
      ]
     },
     "execution_count": 46,
     "metadata": {},
     "output_type": "execute_result"
    }
   ],
   "source": [
    "(final_model.pvalues.loc[\"ShotsOnTarget\"][0] + final_model.pvalues.loc[\"ShotsOnTarget\"][1])/2"
   ]
  },
  {
   "cell_type": "code",
   "execution_count": 47,
   "id": "db0f68fb",
   "metadata": {},
   "outputs": [
    {
     "data": {
      "text/plain": [
       "0.3559455508233845"
      ]
     },
     "execution_count": 47,
     "metadata": {},
     "output_type": "execute_result"
    }
   ],
   "source": [
    "final_model.prsquared"
   ]
  },
  {
   "cell_type": "code",
   "execution_count": 48,
   "id": "130a2ea2",
   "metadata": {},
   "outputs": [
    {
     "data": {
      "text/plain": [
       "ShotsOnTarget             2.730988\n",
       "Saves                    -1.131413\n",
       "Interceptions            -0.476140\n",
       "PenaltyKicksMade          0.686037\n",
       "TouchesAtt3rd            -2.554940\n",
       "AverageDistanceOfShots   -1.088856\n",
       "PassingTypeLongWidth      0.632374\n",
       "ShortPassesCompleted      1.983318\n",
       "FoulsCommited             0.304678\n",
       "TouchesDef3rd            -0.616206\n",
       "Name: 1, dtype: float64"
      ]
     },
     "execution_count": 48,
     "metadata": {},
     "output_type": "execute_result"
    }
   ],
   "source": [
    "final_model.params[1][1:]"
   ]
  },
  {
   "cell_type": "code",
   "execution_count": 49,
   "id": "94331c64",
   "metadata": {},
   "outputs": [
    {
     "data": {
      "text/html": [
       "<div>\n",
       "<style scoped>\n",
       "    .dataframe tbody tr th:only-of-type {\n",
       "        vertical-align: middle;\n",
       "    }\n",
       "\n",
       "    .dataframe tbody tr th {\n",
       "        vertical-align: top;\n",
       "    }\n",
       "\n",
       "    .dataframe thead th {\n",
       "        text-align: right;\n",
       "    }\n",
       "</style>\n",
       "<table border=\"1\" class=\"dataframe\">\n",
       "  <thead>\n",
       "    <tr style=\"text-align: right;\">\n",
       "      <th></th>\n",
       "      <th></th>\n",
       "      <th>lower</th>\n",
       "      <th>upper</th>\n",
       "    </tr>\n",
       "    <tr>\n",
       "      <th>y</th>\n",
       "      <th></th>\n",
       "      <th></th>\n",
       "      <th></th>\n",
       "    </tr>\n",
       "  </thead>\n",
       "  <tbody>\n",
       "    <tr>\n",
       "      <th rowspan=\"10\" valign=\"top\">2</th>\n",
       "      <th>ShotsOnTarget</th>\n",
       "      <td>1.925944</td>\n",
       "      <td>3.536032</td>\n",
       "    </tr>\n",
       "    <tr>\n",
       "      <th>Saves</th>\n",
       "      <td>-1.634461</td>\n",
       "      <td>-0.628366</td>\n",
       "    </tr>\n",
       "    <tr>\n",
       "      <th>Interceptions</th>\n",
       "      <td>-0.896122</td>\n",
       "      <td>-0.056159</td>\n",
       "    </tr>\n",
       "    <tr>\n",
       "      <th>PenaltyKicksMade</th>\n",
       "      <td>0.247582</td>\n",
       "      <td>1.124493</td>\n",
       "    </tr>\n",
       "    <tr>\n",
       "      <th>TouchesAtt3rd</th>\n",
       "      <td>-3.643369</td>\n",
       "      <td>-1.466511</td>\n",
       "    </tr>\n",
       "    <tr>\n",
       "      <th>AverageDistanceOfShots</th>\n",
       "      <td>-1.551459</td>\n",
       "      <td>-0.626253</td>\n",
       "    </tr>\n",
       "    <tr>\n",
       "      <th>PassingTypeLongWidth</th>\n",
       "      <td>0.155865</td>\n",
       "      <td>1.108884</td>\n",
       "    </tr>\n",
       "    <tr>\n",
       "      <th>ShortPassesCompleted</th>\n",
       "      <td>0.867620</td>\n",
       "      <td>3.099016</td>\n",
       "    </tr>\n",
       "    <tr>\n",
       "      <th>FoulsCommited</th>\n",
       "      <td>-0.146493</td>\n",
       "      <td>0.755848</td>\n",
       "    </tr>\n",
       "    <tr>\n",
       "      <th>TouchesDef3rd</th>\n",
       "      <td>-1.142476</td>\n",
       "      <td>-0.089937</td>\n",
       "    </tr>\n",
       "  </tbody>\n",
       "</table>\n",
       "</div>"
      ],
      "text/plain": [
       "                             lower     upper\n",
       "y                                           \n",
       "2 ShotsOnTarget           1.925944  3.536032\n",
       "  Saves                  -1.634461 -0.628366\n",
       "  Interceptions          -0.896122 -0.056159\n",
       "  PenaltyKicksMade        0.247582  1.124493\n",
       "  TouchesAtt3rd          -3.643369 -1.466511\n",
       "  AverageDistanceOfShots -1.551459 -0.626253\n",
       "  PassingTypeLongWidth    0.155865  1.108884\n",
       "  ShortPassesCompleted    0.867620  3.099016\n",
       "  FoulsCommited          -0.146493  0.755848\n",
       "  TouchesDef3rd          -1.142476 -0.089937"
      ]
     },
     "execution_count": 49,
     "metadata": {},
     "output_type": "execute_result"
    }
   ],
   "source": [
    "final_model.conf_int()[12:22]"
   ]
  },
  {
   "cell_type": "code",
   "execution_count": 50,
   "id": "96d8019b",
   "metadata": {},
   "outputs": [
    {
     "data": {
      "text/html": [
       "<div>\n",
       "<style scoped>\n",
       "    .dataframe tbody tr th:only-of-type {\n",
       "        vertical-align: middle;\n",
       "    }\n",
       "\n",
       "    .dataframe tbody tr th {\n",
       "        vertical-align: top;\n",
       "    }\n",
       "\n",
       "    .dataframe thead th {\n",
       "        text-align: right;\n",
       "    }\n",
       "</style>\n",
       "<table border=\"1\" class=\"dataframe\">\n",
       "  <thead>\n",
       "    <tr style=\"text-align: right;\">\n",
       "      <th></th>\n",
       "      <th></th>\n",
       "      <th>2.5%</th>\n",
       "      <th>97.5%</th>\n",
       "      <th>Odds Ratio</th>\n",
       "    </tr>\n",
       "    <tr>\n",
       "      <th>y</th>\n",
       "      <th></th>\n",
       "      <th></th>\n",
       "      <th></th>\n",
       "      <th></th>\n",
       "    </tr>\n",
       "  </thead>\n",
       "  <tbody>\n",
       "    <tr>\n",
       "      <th rowspan=\"10\" valign=\"top\">1</th>\n",
       "      <th>ShotsOnTarget</th>\n",
       "      <td>2.321760</td>\n",
       "      <td>7.966528</td>\n",
       "      <td>4.300740</td>\n",
       "    </tr>\n",
       "    <tr>\n",
       "      <th>Saves</th>\n",
       "      <td>0.469913</td>\n",
       "      <td>0.896285</td>\n",
       "      <td>0.648981</td>\n",
       "    </tr>\n",
       "    <tr>\n",
       "      <th>Interceptions</th>\n",
       "      <td>0.570832</td>\n",
       "      <td>1.005621</td>\n",
       "      <td>0.757654</td>\n",
       "    </tr>\n",
       "    <tr>\n",
       "      <th>PenaltyKicksMade</th>\n",
       "      <td>0.922051</td>\n",
       "      <td>1.797948</td>\n",
       "      <td>1.287556</td>\n",
       "    </tr>\n",
       "    <tr>\n",
       "      <th>TouchesAtt3rd</th>\n",
       "      <td>0.071725</td>\n",
       "      <td>0.398519</td>\n",
       "      <td>0.169068</td>\n",
       "    </tr>\n",
       "    <tr>\n",
       "      <th>AverageDistanceOfShots</th>\n",
       "      <td>0.398783</td>\n",
       "      <td>0.778864</td>\n",
       "      <td>0.557313</td>\n",
       "    </tr>\n",
       "    <tr>\n",
       "      <th>PassingTypeLongWidth</th>\n",
       "      <td>0.931570</td>\n",
       "      <td>1.944712</td>\n",
       "      <td>1.345970</td>\n",
       "    </tr>\n",
       "    <tr>\n",
       "      <th>ShortPassesCompleted</th>\n",
       "      <td>1.005176</td>\n",
       "      <td>5.652112</td>\n",
       "      <td>2.383562</td>\n",
       "    </tr>\n",
       "    <tr>\n",
       "      <th>FoulsCommited</th>\n",
       "      <td>1.094661</td>\n",
       "      <td>2.061641</td>\n",
       "      <td>1.502264</td>\n",
       "    </tr>\n",
       "    <tr>\n",
       "      <th>TouchesDef3rd</th>\n",
       "      <td>0.540145</td>\n",
       "      <td>1.174724</td>\n",
       "      <td>0.796568</td>\n",
       "    </tr>\n",
       "  </tbody>\n",
       "</table>\n",
       "</div>"
      ],
      "text/plain": [
       "                              2.5%     97.5%  Odds Ratio\n",
       "y                                                       \n",
       "1 ShotsOnTarget           2.321760  7.966528    4.300740\n",
       "  Saves                   0.469913  0.896285    0.648981\n",
       "  Interceptions           0.570832  1.005621    0.757654\n",
       "  PenaltyKicksMade        0.922051  1.797948    1.287556\n",
       "  TouchesAtt3rd           0.071725  0.398519    0.169068\n",
       "  AverageDistanceOfShots  0.398783  0.778864    0.557313\n",
       "  PassingTypeLongWidth    0.931570  1.944712    1.345970\n",
       "  ShortPassesCompleted    1.005176  5.652112    2.383562\n",
       "  FoulsCommited           1.094661  2.061641    1.502264\n",
       "  TouchesDef3rd           0.540145  1.174724    0.796568"
      ]
     },
     "execution_count": 50,
     "metadata": {},
     "output_type": "execute_result"
    }
   ],
   "source": [
    "params = list(final_model.params[0][1:])\n",
    "conf = final_model.conf_int()[1:11]\n",
    "conf['Odds Ratio'] = params\n",
    "conf.columns = ['2.5%', '97.5%', 'Odds Ratio']\n",
    "# convert log odds to ORs\n",
    "odds = pd.DataFrame(np.exp(conf))\n",
    "odds"
   ]
  },
  {
   "cell_type": "code",
   "execution_count": 51,
   "id": "b6c0593d",
   "metadata": {},
   "outputs": [
    {
     "data": {
      "image/png": "[encoded data removed]",
      "text/plain": [
       "<Figure size 900x600 with 1 Axes>"
      ]
     },
     "metadata": {},
     "output_type": "display_data"
    }
   ],
   "source": [
    "plt.figure(figsize=(6, 4), dpi=150)\n",
    "ci = [odds.iloc[::-1]['Odds Ratio'] - odds.iloc[::-1]['2.5%'].values, odds.iloc[::-1]['97.5%'].values - odds.iloc[::-1]['Odds Ratio']]\n",
    "plt.errorbar(x=odds.iloc[::-1]['Odds Ratio'], y=np.array([tupla[1] for tupla in odds.iloc[::-1].index.values]), xerr=ci,\n",
    "            color='black',  capsize=3, linestyle='None', linewidth=1,\n",
    "            marker=\"o\", markersize=5, mfc=\"black\", mec=\"black\")\n",
    "plt.axvline(x=1, linewidth=0.8, linestyle='--', color='black')\n",
    "plt.tick_params(axis='both', which='major', labelsize=8)\n",
    "plt.xlabel('Odds Ratio and 95% Confidence Interval', fontsize=8)\n",
    "plt.tight_layout()\n",
    "# plt.savefig('raw_forest_plot.png')\n",
    "# Obtener índices de los puntos a pintar\n",
    "indices_rojo = np.where((odds.iloc[::-1]['97.5%'].values <= 1))[0]\n",
    "indices_azul = np.where((odds.iloc[::-1]['2.5%'].values >= 1))[0]\n",
    "\n",
    "# Pintar los puntos en rojo y azul\n",
    "plt.scatter(odds.iloc[::-1]['Odds Ratio'].iloc[indices_rojo], np.array([tupla[1] for tupla in odds.iloc[::-1].index.values])[indices_rojo], color='red', label='Intervalo a la derecha de x=1')\n",
    "plt.scatter(odds.iloc[::-1]['Odds Ratio'].iloc[indices_azul], np.array([tupla[1] for tupla in odds.iloc[::-1].index.values])[indices_azul], color='blue', label='Intervalo a la izquierda de x=1')\n",
    "\n",
    "plt.show()"
   ]
  },
  {
   "cell_type": "code",
   "execution_count": 52,
   "id": "e75374f6",
   "metadata": {},
   "outputs": [
    {
     "data": {
      "text/html": [
       "<div>\n",
       "<style scoped>\n",
       "    .dataframe tbody tr th:only-of-type {\n",
       "        vertical-align: middle;\n",
       "    }\n",
       "\n",
       "    .dataframe tbody tr th {\n",
       "        vertical-align: top;\n",
       "    }\n",
       "\n",
       "    .dataframe thead th {\n",
       "        text-align: right;\n",
       "    }\n",
       "</style>\n",
       "<table border=\"1\" class=\"dataframe\">\n",
       "  <thead>\n",
       "    <tr style=\"text-align: right;\">\n",
       "      <th></th>\n",
       "      <th></th>\n",
       "      <th>2.5%</th>\n",
       "      <th>97.5%</th>\n",
       "      <th>Odds Ratio</th>\n",
       "    </tr>\n",
       "    <tr>\n",
       "      <th>y</th>\n",
       "      <th></th>\n",
       "      <th></th>\n",
       "      <th></th>\n",
       "      <th></th>\n",
       "    </tr>\n",
       "  </thead>\n",
       "  <tbody>\n",
       "    <tr>\n",
       "      <th rowspan=\"10\" valign=\"top\">2</th>\n",
       "      <th>ShotsOnTarget</th>\n",
       "      <td>6.861622</td>\n",
       "      <td>34.330423</td>\n",
       "      <td>15.348042</td>\n",
       "    </tr>\n",
       "    <tr>\n",
       "      <th>Saves</th>\n",
       "      <td>0.195058</td>\n",
       "      <td>0.533463</td>\n",
       "      <td>0.322577</td>\n",
       "    </tr>\n",
       "    <tr>\n",
       "      <th>Interceptions</th>\n",
       "      <td>0.408149</td>\n",
       "      <td>0.945389</td>\n",
       "      <td>0.621176</td>\n",
       "    </tr>\n",
       "    <tr>\n",
       "      <th>PenaltyKicksMade</th>\n",
       "      <td>1.280924</td>\n",
       "      <td>3.078654</td>\n",
       "      <td>1.985830</td>\n",
       "    </tr>\n",
       "    <tr>\n",
       "      <th>TouchesAtt3rd</th>\n",
       "      <td>0.026164</td>\n",
       "      <td>0.230729</td>\n",
       "      <td>0.077697</td>\n",
       "    </tr>\n",
       "    <tr>\n",
       "      <th>AverageDistanceOfShots</th>\n",
       "      <td>0.211939</td>\n",
       "      <td>0.534591</td>\n",
       "      <td>0.336601</td>\n",
       "    </tr>\n",
       "    <tr>\n",
       "      <th>PassingTypeLongWidth</th>\n",
       "      <td>1.168669</td>\n",
       "      <td>3.030974</td>\n",
       "      <td>1.882074</td>\n",
       "    </tr>\n",
       "    <tr>\n",
       "      <th>ShortPassesCompleted</th>\n",
       "      <td>2.381237</td>\n",
       "      <td>22.176126</td>\n",
       "      <td>7.266816</td>\n",
       "    </tr>\n",
       "    <tr>\n",
       "      <th>FoulsCommited</th>\n",
       "      <td>0.863732</td>\n",
       "      <td>2.129416</td>\n",
       "      <td>1.356188</td>\n",
       "    </tr>\n",
       "    <tr>\n",
       "      <th>TouchesDef3rd</th>\n",
       "      <td>0.319028</td>\n",
       "      <td>0.913989</td>\n",
       "      <td>0.539989</td>\n",
       "    </tr>\n",
       "  </tbody>\n",
       "</table>\n",
       "</div>"
      ],
      "text/plain": [
       "                              2.5%      97.5%  Odds Ratio\n",
       "y                                                        \n",
       "2 ShotsOnTarget           6.861622  34.330423   15.348042\n",
       "  Saves                   0.195058   0.533463    0.322577\n",
       "  Interceptions           0.408149   0.945389    0.621176\n",
       "  PenaltyKicksMade        1.280924   3.078654    1.985830\n",
       "  TouchesAtt3rd           0.026164   0.230729    0.077697\n",
       "  AverageDistanceOfShots  0.211939   0.534591    0.336601\n",
       "  PassingTypeLongWidth    1.168669   3.030974    1.882074\n",
       "  ShortPassesCompleted    2.381237  22.176126    7.266816\n",
       "  FoulsCommited           0.863732   2.129416    1.356188\n",
       "  TouchesDef3rd           0.319028   0.913989    0.539989"
      ]
     },
     "execution_count": 52,
     "metadata": {},
     "output_type": "execute_result"
    }
   ],
   "source": [
    "params = list(final_model.params[1][1:])\n",
    "conf = final_model.conf_int()[12:22]\n",
    "conf['Odds Ratio'] = params\n",
    "conf.columns = ['2.5%', '97.5%', 'Odds Ratio']\n",
    "# convert log odds to ORs\n",
    "odds = pd.DataFrame(np.exp(conf))\n",
    "odds"
   ]
  },
  {
   "cell_type": "code",
   "execution_count": 53,
   "id": "116ee1e7",
   "metadata": {},
   "outputs": [
    {
     "data": {
      "image/png": "[encoded data removed]",
      "text/plain": [
       "<Figure size 900x600 with 1 Axes>"
      ]
     },
     "metadata": {},
     "output_type": "display_data"
    }
   ],
   "source": [
    "plt.figure(figsize=(6, 4), dpi=150)\n",
    "ci = [odds.iloc[::-1]['Odds Ratio'] - odds.iloc[::-1]['2.5%'].values, odds.iloc[::-1]['97.5%'].values - odds.iloc[::-1]['Odds Ratio']]\n",
    "plt.errorbar(x=odds.iloc[::-1]['Odds Ratio'], y=np.array([tupla[1] for tupla in odds.iloc[::-1].index.values]), xerr=ci,\n",
    "            color='black',  capsize=3, linestyle='None', linewidth=1,\n",
    "            marker=\"o\", markersize=5, mfc=\"black\", mec=\"black\")\n",
    "plt.axvline(x=1, linewidth=0.8, linestyle='--', color='black')\n",
    "plt.tick_params(axis='both', which='major', labelsize=8)\n",
    "plt.xlabel('Odds Ratio and 95% Confidence Interval', fontsize=8)\n",
    "plt.tight_layout()\n",
    "# plt.savefig('raw_forest_plot.png')\n",
    "# Obtener índices de los puntos a pintar\n",
    "indices_rojo = np.where((odds.iloc[::-1]['97.5%'].values <= 1))[0]\n",
    "indices_azul = np.where((odds.iloc[::-1]['2.5%'].values >= 1))[0]\n",
    "\n",
    "# Pintar los puntos en rojo y azul\n",
    "plt.scatter(odds.iloc[::-1]['Odds Ratio'].iloc[indices_rojo], np.array([tupla[1] for tupla in odds.iloc[::-1].index.values])[indices_rojo], color='red', label='Intervalo a la derecha de x=1')\n",
    "plt.scatter(odds.iloc[::-1]['Odds Ratio'].iloc[indices_azul], np.array([tupla[1] for tupla in odds.iloc[::-1].index.values])[indices_azul], color='blue', label='Intervalo a la izquierda de x=1')\n",
    "\n",
    "plt.show()"
   ]
  },
  {
   "cell_type": "code",
   "execution_count": null,
   "id": "7f584766",
   "metadata": {},
   "outputs": [],
   "source": []
  }
 ],
 "metadata": {
  "kernelspec": {
   "display_name": "Python 3 (ipykernel)",
   "language": "python",
   "name": "python3"
  },
  "language_info": {
   "codemirror_mode": {
    "name": "ipython",
    "version": 3
   },
   "file_extension": ".py",
   "mimetype": "text/x-python",
   "name": "python",
   "nbconvert_exporter": "python",
   "pygments_lexer": "ipython3",
   "version": "3.9.13"
  }
 },
 "nbformat": 4,
 "nbformat_minor": 5
}
